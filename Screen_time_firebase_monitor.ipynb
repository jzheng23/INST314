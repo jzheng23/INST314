{
  "nbformat": 4,
  "nbformat_minor": 0,
  "metadata": {
    "colab": {
      "provenance": [],
      "collapsed_sections": [
        "Z-x7WGXf-Uuf",
        "yo3YdmPp0ZCb"
      ],
      "authorship_tag": "ABX9TyNE1ZfYwAyTcmO4cweVnfGS",
      "include_colab_link": true
    },
    "kernelspec": {
      "name": "python3",
      "display_name": "Python 3"
    },
    "language_info": {
      "name": "python"
    }
  },
  "cells": [
    {
      "cell_type": "markdown",
      "metadata": {
        "id": "view-in-github",
        "colab_type": "text"
      },
      "source": [
        "<a href=\"https://colab.research.google.com/github/jzheng23/INST314/blob/main/Screen_time_firebase_monitor.ipynb\" target=\"_parent\"><img src=\"https://colab.research.google.com/assets/colab-badge.svg\" alt=\"Open In Colab\"/></a>"
      ]
    },
    {
      "cell_type": "markdown",
      "source": [
        "This notebook provides the codes to check the progress of each participant, including two main functions:\n",
        "1. Check the last update of screen events from each participant\n",
        "2. Generate a list of emails (to be copied), to whom we should send a reminder email"
      ],
      "metadata": {
        "id": "UN2spQWn-0hl"
      }
    },
    {
      "cell_type": "code",
      "source": [],
      "metadata": {
        "id": "voVY5RIKjLcw"
      },
      "execution_count": null,
      "outputs": []
    },
    {
      "cell_type": "markdown",
      "source": [
        "# Preparation"
      ],
      "metadata": {
        "id": "FxrxgTCQjNMS"
      }
    },
    {
      "cell_type": "markdown",
      "source": [
        "Mount Google Drive and set up file path"
      ],
      "metadata": {
        "id": "QKn_oSCKjNMT"
      }
    },
    {
      "cell_type": "code",
      "source": [
        "from google.colab import drive\n",
        "drive.mount('/content/drive')"
      ],
      "metadata": {
        "colab": {
          "base_uri": "https://localhost:8080/"
        },
        "outputId": "ff1bcfd0-7d72-4a58-9215-0d2045cd09ab",
        "id": "oqZx3uxIjNMU"
      },
      "execution_count": null,
      "outputs": [
        {
          "output_type": "stream",
          "name": "stdout",
          "text": [
            "Drive already mounted at /content/drive; to attempt to forcibly remount, call drive.mount(\"/content/drive\", force_remount=True).\n"
          ]
        }
      ]
    },
    {
      "cell_type": "markdown",
      "source": [
        "Load the Google Drive path, depending who is running the notebook"
      ],
      "metadata": {
        "id": "gju8PTwCjNMU"
      }
    },
    {
      "cell_type": "code",
      "source": [
        "#Jian\n",
        "google_drive_data_path = '/content/drive/MyDrive/Problematic smartphone usage/Ambient display/Data'\n",
        "google_drive_key_path = '/content/drive/MyDrive/Problematic smartphone usage/Ambient display/Key'"
      ],
      "metadata": {
        "id": "mlDqMP9njNMU"
      },
      "execution_count": null,
      "outputs": []
    },
    {
      "cell_type": "code",
      "source": [
        "#Subin\n",
        "# google_drive_data_path = '/content/drive/MyDrive/UMD_research/Problematic_Smartphone_Usage'\n",
        "# google_drive_key_path = '/content/drive/MyDrive/UMD_research/Problematic_Smartphone_Usage'"
      ],
      "metadata": {
        "id": "0Gv7pCnfjNMV"
      },
      "execution_count": null,
      "outputs": []
    },
    {
      "cell_type": "code",
      "source": [
        "import pandas as pd\n",
        "import numpy as np\n",
        "import datetime"
      ],
      "metadata": {
        "id": "sFP3YyHUJR1h"
      },
      "execution_count": null,
      "outputs": []
    },
    {
      "cell_type": "code",
      "source": [
        "#Convert Unix timestamp to date/datetime in specified timezone\n",
        "def convert_unix_to_date(unix_timestamp, timezone='America/New_York', return_date=True):\n",
        "   \"\"\"\n",
        "\n",
        "   Parameters:\n",
        "       unix_timestamp: Unix timestamp in milliseconds\n",
        "       timezone: String of timezone (default 'America/New_York')\n",
        "       return_date: If True returns date only, if False returns datetime\n",
        "   \"\"\"\n",
        "   dt = pd.to_datetime(unix_timestamp, unit='ms', utc=True).tz_convert(timezone)\n",
        "   return dt.date() if return_date else dt"
      ],
      "metadata": {
        "id": "AHxiU4FrJhoB"
      },
      "execution_count": null,
      "outputs": []
    },
    {
      "cell_type": "markdown",
      "source": [
        "# Firebase database"
      ],
      "metadata": {
        "id": "Z-x7WGXf-Uuf"
      }
    },
    {
      "cell_type": "markdown",
      "source": [
        "## Set up link"
      ],
      "metadata": {
        "id": "aIimX4uCjq-m"
      }
    },
    {
      "cell_type": "code",
      "source": [
        "import firebase_admin\n",
        "from firebase_admin import credentials, db\n",
        "import csv\n",
        "import pandas as pd"
      ],
      "metadata": {
        "id": "zy1HrBmDnOJx"
      },
      "execution_count": null,
      "outputs": []
    },
    {
      "cell_type": "code",
      "source": [
        "# Don't re-run this cell unless the kernel has been restarted\n",
        "cred = credentials.Certificate(google_drive_key_path+'/timer-42ad2-firebase-adminsdk-4r7oj-2c373565f2.json')\n",
        "firebase_admin.initialize_app(cred, {\n",
        "    'databaseURL': 'https://timer-42ad2-default-rtdb.firebaseio.com'\n",
        "})"
      ],
      "metadata": {
        "id": "gFVB47CUKTsr"
      },
      "execution_count": null,
      "outputs": []
    },
    {
      "cell_type": "code",
      "source": [
        "#Convert Unix timestamp to date/datetime in specified timezone\n",
        "def convert_unix_to_date(unix_timestamp, timezone='America/New_York', return_date=True):\n",
        "   \"\"\"\n",
        "\n",
        "   Parameters:\n",
        "       unix_timestamp: Unix timestamp in milliseconds\n",
        "       timezone: String of timezone (default 'America/New_York')\n",
        "       return_date: If True returns date only, if False returns datetime\n",
        "   \"\"\"\n",
        "   dt = pd.to_datetime(unix_timestamp, unit='ms', utc=True).tz_convert(timezone)\n",
        "   return dt.date() if return_date else dt"
      ],
      "metadata": {
        "id": "QQdQsFQSslsy"
      },
      "execution_count": null,
      "outputs": []
    },
    {
      "cell_type": "markdown",
      "source": [
        "## Response data"
      ],
      "metadata": {
        "id": "EQ-a_Ljo7Wm_"
      }
    },
    {
      "cell_type": "code",
      "source": [
        "def process_responses(responses, pid, host, survey_id):\n",
        "    responses_data = []\n",
        "    response_dict = {\n",
        "        'pid': pid,\n",
        "        'host': host,\n",
        "        'surveyID': survey_id\n",
        "    }\n",
        "\n",
        "    if isinstance(responses, dict):\n",
        "        for question_id, answer in responses.items():\n",
        "            response_dict[f'q_{question_id}'] = answer\n",
        "    elif isinstance(responses, list):\n",
        "        for question_id, answer in enumerate(responses):\n",
        "            if answer is not None:\n",
        "                response_dict[f'q_{question_id}'] = answer\n",
        "\n",
        "    responses_data.append(response_dict)\n",
        "    return responses_data\n",
        "\n",
        "def get_timestamp(data):\n",
        "    if isinstance(data, dict):\n",
        "        return data.get('a') or data.get('timestamp')\n",
        "    return None\n",
        "\n",
        "def get_responses(data):\n",
        "    if isinstance(data, dict):\n",
        "        return data.get('b') or data.get('responses')\n",
        "    elif isinstance(data, list):\n",
        "        return data\n",
        "    return None\n",
        "\n",
        "def firebase_to_csv_log_Screen(ref_path, output_file):\n",
        "    ref = db.reference(ref_path)\n",
        "    data = ref.get()\n",
        "    transformed_data = []\n",
        "\n",
        "    for pid, pid_data in data.items():\n",
        "        pid = pid.lower()\n",
        "\n",
        "        # Process each host under the pid\n",
        "        for host, events in pid_data.items():\n",
        "            if isinstance(events, list):\n",
        "                for index, event in enumerate(events):\n",
        "                    if event is not None and isinstance(event, dict):\n",
        "                        row = {\n",
        "                            'pid': pid,\n",
        "                            'host': host,\n",
        "                            'eventLabel': index,\n",
        "                            'startTime': event.get('startTime'),\n",
        "                            'endTime': event.get('endTime')\n",
        "                        }\n",
        "                        transformed_data.append(row)\n",
        "\n",
        "    df = pd.DataFrame(transformed_data)\n",
        "    if len(transformed_data) > 0:\n",
        "        df = df[['pid', 'host', 'eventLabel', 'startTime', 'endTime']]\n",
        "    df.to_csv(output_file, index=False)\n",
        "\n",
        "def responses_to_csvs(meta_file, responses_file):\n",
        "    ref = db.reference('/responses')\n",
        "    data = ref.get()\n",
        "\n",
        "    meta_data = []\n",
        "    responses_data = []\n",
        "\n",
        "    for pid, pid_data in data.items():\n",
        "        pid = pid.lower()\n",
        "\n",
        "        # Process each host under pid\n",
        "        for host, host_data in pid_data.items():\n",
        "            # If host_data is a list, enumerate through it\n",
        "            if isinstance(host_data, list):\n",
        "                for survey_id, survey_data in enumerate(host_data):\n",
        "                    if survey_data is not None:\n",
        "                        timestamp = get_timestamp(survey_data)\n",
        "                        if timestamp:\n",
        "                            meta_data.append({\n",
        "                                'pid': pid,\n",
        "                                'host': host,\n",
        "                                'surveyID': str(survey_id),\n",
        "                                'timestamp': timestamp\n",
        "                            })\n",
        "\n",
        "                            responses = get_responses(survey_data)\n",
        "                            if responses:\n",
        "                                responses_data.extend(process_responses(responses, pid, host, str(survey_id)))\n",
        "\n",
        "    # Create and save metadata DataFrame\n",
        "    meta_df = pd.DataFrame(meta_data)\n",
        "    if len(meta_data) > 0:\n",
        "        meta_df = meta_df[['pid', 'host', 'surveyID', 'timestamp']]\n",
        "    meta_df.to_csv(meta_file, index=False)\n",
        "\n",
        "    # Create responses DataFrame in wide format\n",
        "    responses_df = pd.DataFrame(responses_data)\n",
        "\n",
        "    if len(responses_data) > 0:\n",
        "        first_cols = ['pid', 'host', 'surveyID']\n",
        "        q_cols = [col for col in responses_df.columns if col.startswith('q_')]\n",
        "        q_cols.sort(key=lambda x: int(x.split('_')[1]))\n",
        "        responses_df = responses_df[first_cols + q_cols]\n",
        "\n",
        "    responses_df.to_csv(responses_file, index=False)"
      ],
      "metadata": {
        "id": "Q4q0ytetcZIu"
      },
      "execution_count": null,
      "outputs": []
    },
    {
      "cell_type": "code",
      "source": [
        "responses_to_csvs('survey_meta.csv', 'survey_responses.csv')\n",
        "survey_meta_data = pd.read_csv('/content/survey_meta.csv')\n",
        "print(\"The shape of the survey_meta_data is \" + str(survey_meta_data.shape))\n",
        "survey_meta_data.to_csv(google_drive_data_path + '/survey_meta.csv', index=False)\n",
        "survey_responses_data = pd.read_csv('/content/survey_responses.csv')\n",
        "print(\"The shape of the survey_responses_data is \" + str(survey_responses_data.shape))\n",
        "survey_responses_data.to_csv(google_drive_data_path + '/survey_responses.csv', index=False)"
      ],
      "metadata": {
        "id": "yTWJeIa2Bdoi",
        "colab": {
          "base_uri": "https://localhost:8080/"
        },
        "outputId": "69b29291-59cd-4b1b-8045-8ac59b0a7819"
      },
      "execution_count": null,
      "outputs": [
        {
          "output_type": "stream",
          "name": "stdout",
          "text": [
            "The shape of the survey_meta_data is (22, 4)\n",
            "The shape of the survey_responses_data is (22, 26)\n"
          ]
        }
      ]
    },
    {
      "cell_type": "markdown",
      "source": [
        "## Screen events"
      ],
      "metadata": {
        "id": "BgIVGzJj7cqO"
      }
    },
    {
      "cell_type": "code",
      "source": [
        "def firebase_to_csv_log_Screen(ref_path, output_file):\n",
        "    ref = db.reference(ref_path)\n",
        "    data = ref.get()\n",
        "    transformed_data = []\n",
        "\n",
        "    # dictionary structure\n",
        "    for pid, pid_data in data.items():\n",
        "        pid = pid.lower()\n",
        "\n",
        "        # Skip if pid_data is not a dictionary (to handle old format entries)\n",
        "        if not isinstance(pid_data, dict):\n",
        "            continue\n",
        "\n",
        "        # Process each host under the pid\n",
        "        for host, events in pid_data.items():\n",
        "            if not isinstance(events, list):\n",
        "                continue\n",
        "\n",
        "            for index, event in enumerate(events, start=0):\n",
        "                if event is None:\n",
        "                    continue\n",
        "                if isinstance(event, dict):\n",
        "                    row = {\n",
        "                        'pid': pid,\n",
        "                        'host': host,\n",
        "                        'eventLabel': index,\n",
        "                        'startTime': event.get('startTime'),\n",
        "                        'endTime': event.get('endTime')\n",
        "                    }\n",
        "                    transformed_data.append(row)\n",
        "\n",
        "    df = pd.DataFrame(transformed_data)\n",
        "    if len(transformed_data) > 0:\n",
        "        df = df[['pid', 'host', 'eventLabel', 'startTime', 'endTime']]\n",
        "    df.to_csv(output_file, index=False)"
      ],
      "metadata": {
        "id": "_j9kjFxsa6PV"
      },
      "execution_count": null,
      "outputs": []
    },
    {
      "cell_type": "code",
      "source": [
        "firebase_to_csv_log_Screen('/screen_events','screen_events.csv')\n",
        "screen_events_data = pd.read_csv('/content/screen_events.csv')\n",
        "print(\"The shape of the screen_events_data is \" + str(screen_events_data.shape))\n",
        "screen_events_data.to_csv(google_drive_data_path + '/screen_events.csv', index=False)"
      ],
      "metadata": {
        "id": "CLCIRK2H7qgu",
        "colab": {
          "base_uri": "https://localhost:8080/"
        },
        "outputId": "e58e81e2-be0e-4e2b-88cf-329471d1ba04"
      },
      "execution_count": null,
      "outputs": [
        {
          "output_type": "stream",
          "name": "stdout",
          "text": [
            "The shape of the screen_events_data is (1832, 5)\n"
          ]
        }
      ]
    },
    {
      "cell_type": "markdown",
      "source": [
        "## Device info"
      ],
      "metadata": {
        "id": "2u0oTRRn5593"
      }
    },
    {
      "cell_type": "code",
      "source": [
        "# this function works for device and timezone infor\n",
        "def firebase_to_csv(ref_path, output_file):\n",
        "    # Get reference to device_info\n",
        "    ref = db.reference(ref_path)\n",
        "    data = ref.get()\n",
        "\n",
        "    transformed_data = []\n",
        "\n",
        "    # Transform the nested structure\n",
        "    for pid, pid_data in data.items():\n",
        "        pid = pid.lower()\n",
        "\n",
        "        if isinstance(pid_data, str):\n",
        "            # Case where timezone is directly under pid\n",
        "            row = {\n",
        "                'pid': pid,\n",
        "                'host': pd.NA,  # or None\n",
        "                'timezone': pid_data\n",
        "            }\n",
        "            transformed_data.append(row)\n",
        "        else:\n",
        "            # Case where pid has host-timezone pairs\n",
        "            for host, timezone in pid_data.items():\n",
        "                row = {\n",
        "                    'pid': pid,\n",
        "                    'host': host,\n",
        "                    'timezone': timezone\n",
        "                }\n",
        "                transformed_data.append(row)\n",
        "\n",
        "    # Convert to DataFrame\n",
        "    df = pd.DataFrame(transformed_data)\n",
        "\n",
        "    # Ensure pid and host are the first columns\n",
        "    cols = ['pid', 'host'] + [col for col in df.columns if col not in ['pid', 'host']]\n",
        "    df = df[cols]\n",
        "\n",
        "    # Save to CSV\n",
        "    df.to_csv(output_file, index=False)"
      ],
      "metadata": {
        "id": "TAhF2VZv5Zr1"
      },
      "execution_count": null,
      "outputs": []
    },
    {
      "cell_type": "code",
      "source": [
        "firebase_to_csv('/device_info','device_info.csv')\n",
        "device_data = pd.read_csv('/content/device_info.csv')\n",
        "\n",
        "# First let's convert the string representation of dictionary to actual dictionary\n",
        "device_data0 = device_data.copy()\n",
        "device_data0['timezone'] = device_data0['timezone'].apply(eval)\n",
        "\n",
        "# Now extract each field into its own column\n",
        "device_data0['Base'] = device_data0['timezone'].apply(lambda x: x.get('Base'))\n",
        "device_data0['Brand'] = device_data0['timezone'].apply(lambda x: x.get('Brand'))\n",
        "device_data0['Model'] = device_data0['timezone'].apply(lambda x: x.get('Model'))\n",
        "\n",
        "# If you want to drop the original timezone column, you can use:\n",
        "device_data = device_data0.drop('timezone', axis=1)\n",
        "\n",
        "print(\"The shape of the device_data is \" + str(device_data.shape))\n",
        "device_data.to_csv(google_drive_data_path + '/device_info.csv', index=False)"
      ],
      "metadata": {
        "colab": {
          "base_uri": "https://localhost:8080/"
        },
        "id": "ftq95Onxf92a",
        "outputId": "fca7b730-7e0f-4deb-c21b-7bf986f2418b"
      },
      "execution_count": null,
      "outputs": [
        {
          "output_type": "stream",
          "name": "stdout",
          "text": [
            "The shape of the device_data is (23, 5)\n"
          ]
        }
      ]
    },
    {
      "cell_type": "markdown",
      "source": [
        "## Timezone info"
      ],
      "metadata": {
        "id": "9c66xeLT7nfI"
      }
    },
    {
      "cell_type": "code",
      "source": [
        "firebase_to_csv('/timezones','timezones.csv')\n",
        "timezones_data = pd.read_csv('/content/timezones.csv')\n",
        "print(\"The shape of the timezones_data is \" + str(timezones_data.shape))\n",
        "timezones_data.to_csv(google_drive_data_path + '/timezones.csv', index=False)"
      ],
      "metadata": {
        "id": "do7aFA789Lzw",
        "colab": {
          "base_uri": "https://localhost:8080/"
        },
        "outputId": "0ba31ad0-c0f9-45e8-d460-df4d2048fb5c"
      },
      "execution_count": null,
      "outputs": [
        {
          "output_type": "stream",
          "name": "stdout",
          "text": [
            "The shape of the timezones_data is (23, 3)\n"
          ]
        }
      ]
    },
    {
      "cell_type": "markdown",
      "source": [
        "## User states"
      ],
      "metadata": {
        "id": "b6xFu8KGeiBr"
      }
    },
    {
      "cell_type": "markdown",
      "source": [
        "This data was introduced in an update of the app, so it only exist in some of the participants' data."
      ],
      "metadata": {
        "id": "vKtFpijBem5K"
      }
    },
    {
      "cell_type": "code",
      "source": [
        "firebase_to_csv('/user_states','user_states.csv')\n",
        "user_states = pd.read_csv('/content/user_states.csv')"
      ],
      "metadata": {
        "id": "RCUS3KHpehUq"
      },
      "execution_count": null,
      "outputs": []
    },
    {
      "cell_type": "code",
      "source": [
        "# First convert the string representation of dictionary to actual dictionary\n",
        "user_states['timezone'] = user_states['timezone'].apply(eval)\n",
        "\n",
        "# Extract each field into its own column\n",
        "user_states['day_count'] = user_states['timezone'].apply(lambda x: x.get('day_count'))\n",
        "user_states['survey1_completed'] = user_states['timezone'].apply(lambda x: x.get('survey1_completed'))\n",
        "user_states['survey2_completed'] = user_states['timezone'].apply(lambda x: x.get('survey2_completed'))\n",
        "user_states['survey3_completed'] = user_states['timezone'].apply(lambda x: x.get('survey3_completed'))\n",
        "user_states['survey4_completed'] = user_states['timezone'].apply(lambda x: x.get('survey4_completed'))\n",
        "user_states['tutorial_completed'] = user_states['timezone'].apply(lambda x: x.get('tutorial_completed'))\n",
        "\n",
        "# Drop the original timezone column\n",
        "user_states = user_states.drop('timezone', axis=1)\n",
        "\n",
        "# Display the result\n",
        "print(\"The shape of the user_states is \" + str(user_states.shape))\n",
        "user_states.to_csv(google_drive_data_path + '/user_states.csv', index=False)\n"
      ],
      "metadata": {
        "id": "wdOXILAAhPpZ",
        "colab": {
          "base_uri": "https://localhost:8080/"
        },
        "outputId": "8f6c2a42-2ba6-4699-fdf7-66e3d8008af8"
      },
      "execution_count": null,
      "outputs": [
        {
          "output_type": "stream",
          "name": "stdout",
          "text": [
            "The shape of the user_states is (20, 8)\n"
          ]
        }
      ]
    },
    {
      "cell_type": "markdown",
      "source": [
        "## Setting changes"
      ],
      "metadata": {
        "id": "gPZfk9lA7e8f"
      }
    },
    {
      "cell_type": "markdown",
      "source": [
        "Data of setting changes will come in the third week. Don't run this chuck of code early than that, it will return just error.\n",
        "\n"
      ],
      "metadata": {
        "id": "DX9eu2pneHqD"
      }
    },
    {
      "cell_type": "code",
      "source": [
        "def firebase_to_csv_log_setting (ref_path, output_file):\n",
        "    ref = db.reference(ref_path)\n",
        "    data = ref.get()\n",
        "    transformed_data = []\n",
        "\n",
        "    # dictionary structure\n",
        "    for pid, changes in data.items():  # 'pid' = key\n",
        "        if isinstance(changes, list):\n",
        "            for index, change in enumerate(changes, start=0):  #event_label_start:1\n",
        "                if change is None:\n",
        "                    continue\n",
        "                if isinstance(change, dict):\n",
        "                    row = {'pid': pid,\n",
        "                        'eventLabel': index,\n",
        "                        'newValue' : change.get('newValue'),\n",
        "                        'setting': change.get('setting'),\n",
        "                        'timestamp': change.get('timestamp')}\n",
        "                    transformed_data.append(row)\n",
        "\n",
        "    df = pd.DataFrame(transformed_data)\n",
        "    df = df[['pid', 'newValue', 'setting', 'timestamp']]\n",
        "    df.to_csv(output_file, index=False)"
      ],
      "metadata": {
        "id": "7wKmjI3kdlhZ"
      },
      "execution_count": null,
      "outputs": []
    },
    {
      "cell_type": "code",
      "source": [
        "firebase_to_csv_log_setting('/settings_change_logs','settings_change_logs.csv')\n",
        "settings_change_logs_data = pd.read_csv('/content/settings_change_logs.csv')\n",
        "print(\"The shape of the settings_change_logs_data is \" + str(settings_change_logs_data.shape))\n",
        "settings_change_logs_data.to_csv(google_drive_data_path + '/settings_change_logs.csv', index=False)"
      ],
      "metadata": {
        "colab": {
          "base_uri": "https://localhost:8080/"
        },
        "id": "z4BKVzrla3cL",
        "outputId": "288bd72c-c85d-4fa7-d912-83819a0e2adf"
      },
      "execution_count": null,
      "outputs": [
        {
          "output_type": "stream",
          "name": "stdout",
          "text": [
            "The shape of the settings_change_logs_data is (21, 4)\n"
          ]
        }
      ]
    },
    {
      "cell_type": "markdown",
      "source": [
        "## Ringer"
      ],
      "metadata": {
        "id": "m4Meu_IQiuts"
      }
    },
    {
      "cell_type": "markdown",
      "source": [
        "Data of ringer changes will come in the third week. Don't run this chuck of code early than that, it will return just error."
      ],
      "metadata": {
        "id": "h3syiJYaeZ-t"
      }
    },
    {
      "cell_type": "code",
      "source": [
        "def firebase_to_csv_log_mode(ref_path, output_file):\n",
        "    ref = db.reference(ref_path)\n",
        "    data = ref.get()\n",
        "    transformed_data = []\n",
        "\n",
        "    for pid, middle_levels in data.items():\n",
        "        pid = pid.lower()\n",
        "        for middle_key, sub_changes in middle_levels.items():\n",
        "            for index, event in enumerate(sub_changes):\n",
        "                if isinstance(event, dict):\n",
        "                    row = {'pid': pid,'host':middle_key,'label': str(index),\n",
        "                        'mode': event.get('mode'),\n",
        "                        'timestamp': event.get('timestamp')}\n",
        "                    transformed_data.append(row)\n",
        "\n",
        "    df = pd.DataFrame(transformed_data)\n",
        "    df = df[['pid', 'host', 'label', 'mode', 'timestamp']]\n",
        "    df.to_csv(output_file, index=False)"
      ],
      "metadata": {
        "id": "NkA5rfhwv1Ga"
      },
      "execution_count": null,
      "outputs": []
    },
    {
      "cell_type": "code",
      "source": [
        "firebase_to_csv_log_mode('/ringer_mode_events','ringer_mode_events.csv')\n",
        "ringer_mode_events_data = pd.read_csv('/content/ringer_mode_events.csv')\n",
        "print(\"The shape of the ringer_mode_events_data is \" + str(ringer_mode_events_data.shape))\n",
        "ringer_mode_events_data.to_csv(google_drive_data_path + '/ringer_mode_events.csv', index=False)"
      ],
      "metadata": {
        "collapsed": true,
        "id": "KbCPCVA6iud8"
      },
      "execution_count": null,
      "outputs": []
    },
    {
      "cell_type": "markdown",
      "source": [
        "## Counters"
      ],
      "metadata": {
        "id": "2vwb_EftYtPp"
      }
    },
    {
      "cell_type": "markdown",
      "source": [
        "We don't actually need top analyze the counter data"
      ],
      "metadata": {
        "id": "HrOus7dZ8BjX"
      }
    },
    {
      "cell_type": "code",
      "source": [
        "# def firebase_to_csv_counters(ref_path, output_file):\n",
        "#     ref = db.reference(ref_path)\n",
        "#     data = ref.get()\n",
        "#     transformed_data = []\n",
        "#     for pid, value in data.items():\n",
        "#         pid = pid.lower()\n",
        "#         # Case 1: only numeric\n",
        "#         if isinstance(value, int):\n",
        "#             transformed_data.append({'pid': pid, 'screen_event_count': value})\n",
        "\n",
        "#         # Case 2: dictionary => selecting only value\n",
        "#         elif isinstance(value, dict):\n",
        "#             numeric_values = [v for v in value.values() if isinstance(v, int)]\n",
        "#             if numeric_values:\n",
        "#                 total = sum(numeric_values)\n",
        "#                 transformed_data.append({'pid': pid, 'screen_event_count': total})\n",
        "\n",
        "#     df = pd.DataFrame(transformed_data)\n",
        "#     df = df[['pid', 'screen_event_count']]\n",
        "#     df.to_csv(output_file, index=False)\n",
        "\n",
        "\n",
        "# firebase_to_csv_counters('/ringer_event_counters','ringer_event_counters.csv')\n",
        "# ringer_event_counters_data0 = pd.read_csv('/content/ringer_event_counters.csv')\n",
        "# print(ringer_event_counters_data0.head())\n",
        "\n",
        "# firebase_to_csv_counters('/screen_event_counters','screen_event_counters.csv')\n",
        "# screen_event_counters_data0 = pd.read_csv('/content/screen_event_counters.csv')\n",
        "# print(screen_event_counters_data0.head())\n",
        "\n",
        "# firebase_to_csv_counters('/settings_change_counters','settings_change_counters.csv')\n",
        "# settings_change_counters_data0 = pd.read_csv('/content/settings_change_counters.csv')\n",
        "# print(settings_change_counters_data0.head())"
      ],
      "metadata": {
        "id": "fk6_muXpjtZx"
      },
      "execution_count": null,
      "outputs": []
    },
    {
      "cell_type": "markdown",
      "source": [
        "# Paricipant management"
      ],
      "metadata": {
        "id": "G9C8L__e-2KH"
      }
    },
    {
      "cell_type": "markdown",
      "source": [
        "## Progress check\n",
        "\n",
        "Which day is each participant on, the state of each survey and the tutorial: unavailable, available, or completed."
      ],
      "metadata": {
        "id": "5JLcrCLQ-5T3"
      }
    },
    {
      "cell_type": "markdown",
      "source": [
        "### Read in the meta data"
      ],
      "metadata": {
        "id": "QmxqmvZ7AwKe"
      }
    },
    {
      "cell_type": "code",
      "source": [
        "# read in the data\n",
        "import pytz\n",
        "from datetime import datetime\n",
        "\n",
        "survey_data = pd.read_csv(google_drive_data_path + '/survey_meta.csv')\n",
        "survey_data['submitDate'] = pd.to_datetime(survey_data['timestamp'].map(convert_unix_to_date))\n",
        "\n",
        "# Pivot the dataframe to create survey columns\n",
        "survey_meta_pivoted = survey_data.pivot(index=['pid','host'], columns='surveyID', values='submitDate')\n",
        "\n",
        "# Rename the columns\n",
        "survey_meta_pivoted.columns = ['survey' + str(col) for col in survey_meta_pivoted.columns]\n",
        "\n",
        "# Reset the index to make pid a column again\n",
        "survey_meta_pivoted = survey_meta_pivoted.reset_index()\n",
        "\n"
      ],
      "metadata": {
        "id": "ujsSZJbape-X"
      },
      "execution_count": 94,
      "outputs": []
    },
    {
      "cell_type": "code",
      "source": [
        "# Get today's date once\n",
        "ny_tz = pytz.timezone('America/New_York')\n",
        "today = pd.Timestamp.now(tz=ny_tz).normalize().date()\n",
        "\n",
        "# Fixed date operations\n",
        "survey_meta_pivoted['survey1'] = pd.to_datetime(survey_meta_pivoted['survey1']).dt.date\n",
        "survey_meta_pivoted['real_day_count'] = np.array([today - d for d in survey_meta_pivoted['survey1']], dtype='timedelta64[D]').astype(int) + 1\n",
        "\n",
        "def calculate_app_day_count(row):\n",
        "   required_columns = ['survey2', 'survey3', 'survey4']\n",
        "   row = row.reindex([*row.index, *required_columns]).fillna(pd.NA)\n",
        "\n",
        "   today = pd.Timestamp.now(tz=ny_tz)\n",
        "   s1 = pd.to_datetime(row['survey1']).tz_localize(ny_tz)\n",
        "   days_since_s1 = (today - s1).days + 1\n",
        "\n",
        "   if pd.notna(row['survey4']):\n",
        "       return 0\n",
        "   if pd.isna(row['survey2']):\n",
        "       return min(8, days_since_s1)\n",
        "\n",
        "   s2 = pd.to_datetime(row['survey2']).tz_localize(ny_tz)\n",
        "   delay1 = max(0, (s2 - s1).days - 7)\n",
        "\n",
        "   if pd.isna(row['survey3']):\n",
        "       return min(15, days_since_s1 - delay1)\n",
        "\n",
        "   s3 = pd.to_datetime(row['survey3']).tz_localize(ny_tz)\n",
        "   delay2_threshold = 8 if (s2 - s1).days == 6 else 7\n",
        "   delay2 = max(0, (s3 - s2).days - delay2_threshold)\n",
        "\n",
        "   return min(22, days_since_s1 - delay1 - delay2)\n",
        "\n",
        "\n",
        "print(\"The shape of the dataframe is: \", survey_meta_pivoted.shape)\n",
        "\n",
        "survey_meta_pivoted['app_day_count'] = survey_meta_pivoted.apply(calculate_app_day_count, axis=1)\n",
        "\n",
        "survey_meta_pivoted = (survey_meta_pivoted\n",
        "   .assign(pid=lambda x: x['pid'].str.upper())\n",
        "   .rename(columns={'pid': 'PID'}))\n"
      ],
      "metadata": {
        "colab": {
          "base_uri": "https://localhost:8080/"
        },
        "id": "amBOeEpGmmoJ",
        "outputId": "8c7f5e6b-c8a8-44fb-fbc5-6ed00862938a"
      },
      "execution_count": 95,
      "outputs": [
        {
          "output_type": "stream",
          "name": "stdout",
          "text": [
            "The shape of the dataframe is:  (22, 4)\n"
          ]
        }
      ]
    },
    {
      "cell_type": "markdown",
      "source": [
        "### Read the email info and merge"
      ],
      "metadata": {
        "id": "SyBFn33BA8fn"
      }
    },
    {
      "cell_type": "code",
      "source": [
        "survey_meta_pivoted"
      ],
      "metadata": {
        "colab": {
          "base_uri": "https://localhost:8080/",
          "height": 739
        },
        "id": "xANpIv36pHqo",
        "outputId": "5a382dc8-a6de-42f6-8e64-386861455e0e"
      },
      "execution_count": 96,
      "outputs": [
        {
          "output_type": "execute_result",
          "data": {
            "text/plain": [
              "      PID    host     survey1  real_day_count  app_day_count\n",
              "0   ST011  589415  2024-12-04               3              3\n",
              "1   ST012  104241  2024-12-04               3              3\n",
              "2   ST013  926167  2024-12-04               3              3\n",
              "3   ST014  208290  2024-12-04               3              3\n",
              "4   ST015  305317  2024-12-04               3              3\n",
              "5   ST016  324215  2024-12-06               1              1\n",
              "6   ST017  266074  2024-12-04               3              3\n",
              "7   ST018  436310  2024-12-05               2              2\n",
              "8   ST019  412617  2024-12-04               3              3\n",
              "9   ST020  974359  2024-12-06               1              1\n",
              "10  ST021  291166  2024-12-04               3              3\n",
              "11  ST023  251479  2024-12-04               3              3\n",
              "12  ST024  350354  2024-12-05               2              2\n",
              "13  ST025  842518  2024-12-04               3              3\n",
              "14  ST026  131918  2024-12-04               3              3\n",
              "15  ST027  263527  2024-12-04               3              3\n",
              "16  ST028  496964  2024-12-04               3              3\n",
              "17  ST030  343163  2024-12-05               2              2\n",
              "18  ST031  588640  2024-12-05               2              2\n",
              "19  ST033  437448  2024-12-05               2              2\n",
              "20  ST034  783613  2024-12-05               2              2\n",
              "21  TE001  568777  2024-12-05               2              2"
            ],
            "text/html": [
              "\n",
              "  <div id=\"df-7f109112-bef8-411b-8548-0d4812df0921\" class=\"colab-df-container\">\n",
              "    <div>\n",
              "<style scoped>\n",
              "    .dataframe tbody tr th:only-of-type {\n",
              "        vertical-align: middle;\n",
              "    }\n",
              "\n",
              "    .dataframe tbody tr th {\n",
              "        vertical-align: top;\n",
              "    }\n",
              "\n",
              "    .dataframe thead th {\n",
              "        text-align: right;\n",
              "    }\n",
              "</style>\n",
              "<table border=\"1\" class=\"dataframe\">\n",
              "  <thead>\n",
              "    <tr style=\"text-align: right;\">\n",
              "      <th></th>\n",
              "      <th>PID</th>\n",
              "      <th>host</th>\n",
              "      <th>survey1</th>\n",
              "      <th>real_day_count</th>\n",
              "      <th>app_day_count</th>\n",
              "    </tr>\n",
              "  </thead>\n",
              "  <tbody>\n",
              "    <tr>\n",
              "      <th>0</th>\n",
              "      <td>ST011</td>\n",
              "      <td>589415</td>\n",
              "      <td>2024-12-04</td>\n",
              "      <td>3</td>\n",
              "      <td>3</td>\n",
              "    </tr>\n",
              "    <tr>\n",
              "      <th>1</th>\n",
              "      <td>ST012</td>\n",
              "      <td>104241</td>\n",
              "      <td>2024-12-04</td>\n",
              "      <td>3</td>\n",
              "      <td>3</td>\n",
              "    </tr>\n",
              "    <tr>\n",
              "      <th>2</th>\n",
              "      <td>ST013</td>\n",
              "      <td>926167</td>\n",
              "      <td>2024-12-04</td>\n",
              "      <td>3</td>\n",
              "      <td>3</td>\n",
              "    </tr>\n",
              "    <tr>\n",
              "      <th>3</th>\n",
              "      <td>ST014</td>\n",
              "      <td>208290</td>\n",
              "      <td>2024-12-04</td>\n",
              "      <td>3</td>\n",
              "      <td>3</td>\n",
              "    </tr>\n",
              "    <tr>\n",
              "      <th>4</th>\n",
              "      <td>ST015</td>\n",
              "      <td>305317</td>\n",
              "      <td>2024-12-04</td>\n",
              "      <td>3</td>\n",
              "      <td>3</td>\n",
              "    </tr>\n",
              "    <tr>\n",
              "      <th>5</th>\n",
              "      <td>ST016</td>\n",
              "      <td>324215</td>\n",
              "      <td>2024-12-06</td>\n",
              "      <td>1</td>\n",
              "      <td>1</td>\n",
              "    </tr>\n",
              "    <tr>\n",
              "      <th>6</th>\n",
              "      <td>ST017</td>\n",
              "      <td>266074</td>\n",
              "      <td>2024-12-04</td>\n",
              "      <td>3</td>\n",
              "      <td>3</td>\n",
              "    </tr>\n",
              "    <tr>\n",
              "      <th>7</th>\n",
              "      <td>ST018</td>\n",
              "      <td>436310</td>\n",
              "      <td>2024-12-05</td>\n",
              "      <td>2</td>\n",
              "      <td>2</td>\n",
              "    </tr>\n",
              "    <tr>\n",
              "      <th>8</th>\n",
              "      <td>ST019</td>\n",
              "      <td>412617</td>\n",
              "      <td>2024-12-04</td>\n",
              "      <td>3</td>\n",
              "      <td>3</td>\n",
              "    </tr>\n",
              "    <tr>\n",
              "      <th>9</th>\n",
              "      <td>ST020</td>\n",
              "      <td>974359</td>\n",
              "      <td>2024-12-06</td>\n",
              "      <td>1</td>\n",
              "      <td>1</td>\n",
              "    </tr>\n",
              "    <tr>\n",
              "      <th>10</th>\n",
              "      <td>ST021</td>\n",
              "      <td>291166</td>\n",
              "      <td>2024-12-04</td>\n",
              "      <td>3</td>\n",
              "      <td>3</td>\n",
              "    </tr>\n",
              "    <tr>\n",
              "      <th>11</th>\n",
              "      <td>ST023</td>\n",
              "      <td>251479</td>\n",
              "      <td>2024-12-04</td>\n",
              "      <td>3</td>\n",
              "      <td>3</td>\n",
              "    </tr>\n",
              "    <tr>\n",
              "      <th>12</th>\n",
              "      <td>ST024</td>\n",
              "      <td>350354</td>\n",
              "      <td>2024-12-05</td>\n",
              "      <td>2</td>\n",
              "      <td>2</td>\n",
              "    </tr>\n",
              "    <tr>\n",
              "      <th>13</th>\n",
              "      <td>ST025</td>\n",
              "      <td>842518</td>\n",
              "      <td>2024-12-04</td>\n",
              "      <td>3</td>\n",
              "      <td>3</td>\n",
              "    </tr>\n",
              "    <tr>\n",
              "      <th>14</th>\n",
              "      <td>ST026</td>\n",
              "      <td>131918</td>\n",
              "      <td>2024-12-04</td>\n",
              "      <td>3</td>\n",
              "      <td>3</td>\n",
              "    </tr>\n",
              "    <tr>\n",
              "      <th>15</th>\n",
              "      <td>ST027</td>\n",
              "      <td>263527</td>\n",
              "      <td>2024-12-04</td>\n",
              "      <td>3</td>\n",
              "      <td>3</td>\n",
              "    </tr>\n",
              "    <tr>\n",
              "      <th>16</th>\n",
              "      <td>ST028</td>\n",
              "      <td>496964</td>\n",
              "      <td>2024-12-04</td>\n",
              "      <td>3</td>\n",
              "      <td>3</td>\n",
              "    </tr>\n",
              "    <tr>\n",
              "      <th>17</th>\n",
              "      <td>ST030</td>\n",
              "      <td>343163</td>\n",
              "      <td>2024-12-05</td>\n",
              "      <td>2</td>\n",
              "      <td>2</td>\n",
              "    </tr>\n",
              "    <tr>\n",
              "      <th>18</th>\n",
              "      <td>ST031</td>\n",
              "      <td>588640</td>\n",
              "      <td>2024-12-05</td>\n",
              "      <td>2</td>\n",
              "      <td>2</td>\n",
              "    </tr>\n",
              "    <tr>\n",
              "      <th>19</th>\n",
              "      <td>ST033</td>\n",
              "      <td>437448</td>\n",
              "      <td>2024-12-05</td>\n",
              "      <td>2</td>\n",
              "      <td>2</td>\n",
              "    </tr>\n",
              "    <tr>\n",
              "      <th>20</th>\n",
              "      <td>ST034</td>\n",
              "      <td>783613</td>\n",
              "      <td>2024-12-05</td>\n",
              "      <td>2</td>\n",
              "      <td>2</td>\n",
              "    </tr>\n",
              "    <tr>\n",
              "      <th>21</th>\n",
              "      <td>TE001</td>\n",
              "      <td>568777</td>\n",
              "      <td>2024-12-05</td>\n",
              "      <td>2</td>\n",
              "      <td>2</td>\n",
              "    </tr>\n",
              "  </tbody>\n",
              "</table>\n",
              "</div>\n",
              "    <div class=\"colab-df-buttons\">\n",
              "\n",
              "  <div class=\"colab-df-container\">\n",
              "    <button class=\"colab-df-convert\" onclick=\"convertToInteractive('df-7f109112-bef8-411b-8548-0d4812df0921')\"\n",
              "            title=\"Convert this dataframe to an interactive table.\"\n",
              "            style=\"display:none;\">\n",
              "\n",
              "  <svg xmlns=\"http://www.w3.org/2000/svg\" height=\"24px\" viewBox=\"0 -960 960 960\">\n",
              "    <path d=\"M120-120v-720h720v720H120Zm60-500h600v-160H180v160Zm220 220h160v-160H400v160Zm0 220h160v-160H400v160ZM180-400h160v-160H180v160Zm440 0h160v-160H620v160ZM180-180h160v-160H180v160Zm440 0h160v-160H620v160Z\"/>\n",
              "  </svg>\n",
              "    </button>\n",
              "\n",
              "  <style>\n",
              "    .colab-df-container {\n",
              "      display:flex;\n",
              "      gap: 12px;\n",
              "    }\n",
              "\n",
              "    .colab-df-convert {\n",
              "      background-color: #E8F0FE;\n",
              "      border: none;\n",
              "      border-radius: 50%;\n",
              "      cursor: pointer;\n",
              "      display: none;\n",
              "      fill: #1967D2;\n",
              "      height: 32px;\n",
              "      padding: 0 0 0 0;\n",
              "      width: 32px;\n",
              "    }\n",
              "\n",
              "    .colab-df-convert:hover {\n",
              "      background-color: #E2EBFA;\n",
              "      box-shadow: 0px 1px 2px rgba(60, 64, 67, 0.3), 0px 1px 3px 1px rgba(60, 64, 67, 0.15);\n",
              "      fill: #174EA6;\n",
              "    }\n",
              "\n",
              "    .colab-df-buttons div {\n",
              "      margin-bottom: 4px;\n",
              "    }\n",
              "\n",
              "    [theme=dark] .colab-df-convert {\n",
              "      background-color: #3B4455;\n",
              "      fill: #D2E3FC;\n",
              "    }\n",
              "\n",
              "    [theme=dark] .colab-df-convert:hover {\n",
              "      background-color: #434B5C;\n",
              "      box-shadow: 0px 1px 3px 1px rgba(0, 0, 0, 0.15);\n",
              "      filter: drop-shadow(0px 1px 2px rgba(0, 0, 0, 0.3));\n",
              "      fill: #FFFFFF;\n",
              "    }\n",
              "  </style>\n",
              "\n",
              "    <script>\n",
              "      const buttonEl =\n",
              "        document.querySelector('#df-7f109112-bef8-411b-8548-0d4812df0921 button.colab-df-convert');\n",
              "      buttonEl.style.display =\n",
              "        google.colab.kernel.accessAllowed ? 'block' : 'none';\n",
              "\n",
              "      async function convertToInteractive(key) {\n",
              "        const element = document.querySelector('#df-7f109112-bef8-411b-8548-0d4812df0921');\n",
              "        const dataTable =\n",
              "          await google.colab.kernel.invokeFunction('convertToInteractive',\n",
              "                                                    [key], {});\n",
              "        if (!dataTable) return;\n",
              "\n",
              "        const docLinkHtml = 'Like what you see? Visit the ' +\n",
              "          '<a target=\"_blank\" href=https://colab.research.google.com/notebooks/data_table.ipynb>data table notebook</a>'\n",
              "          + ' to learn more about interactive tables.';\n",
              "        element.innerHTML = '';\n",
              "        dataTable['output_type'] = 'display_data';\n",
              "        await google.colab.output.renderOutput(dataTable, element);\n",
              "        const docLink = document.createElement('div');\n",
              "        docLink.innerHTML = docLinkHtml;\n",
              "        element.appendChild(docLink);\n",
              "      }\n",
              "    </script>\n",
              "  </div>\n",
              "\n",
              "\n",
              "<div id=\"df-b5bef76a-0c67-4cb7-9818-a3d18a076943\">\n",
              "  <button class=\"colab-df-quickchart\" onclick=\"quickchart('df-b5bef76a-0c67-4cb7-9818-a3d18a076943')\"\n",
              "            title=\"Suggest charts\"\n",
              "            style=\"display:none;\">\n",
              "\n",
              "<svg xmlns=\"http://www.w3.org/2000/svg\" height=\"24px\"viewBox=\"0 0 24 24\"\n",
              "     width=\"24px\">\n",
              "    <g>\n",
              "        <path d=\"M19 3H5c-1.1 0-2 .9-2 2v14c0 1.1.9 2 2 2h14c1.1 0 2-.9 2-2V5c0-1.1-.9-2-2-2zM9 17H7v-7h2v7zm4 0h-2V7h2v10zm4 0h-2v-4h2v4z\"/>\n",
              "    </g>\n",
              "</svg>\n",
              "  </button>\n",
              "\n",
              "<style>\n",
              "  .colab-df-quickchart {\n",
              "      --bg-color: #E8F0FE;\n",
              "      --fill-color: #1967D2;\n",
              "      --hover-bg-color: #E2EBFA;\n",
              "      --hover-fill-color: #174EA6;\n",
              "      --disabled-fill-color: #AAA;\n",
              "      --disabled-bg-color: #DDD;\n",
              "  }\n",
              "\n",
              "  [theme=dark] .colab-df-quickchart {\n",
              "      --bg-color: #3B4455;\n",
              "      --fill-color: #D2E3FC;\n",
              "      --hover-bg-color: #434B5C;\n",
              "      --hover-fill-color: #FFFFFF;\n",
              "      --disabled-bg-color: #3B4455;\n",
              "      --disabled-fill-color: #666;\n",
              "  }\n",
              "\n",
              "  .colab-df-quickchart {\n",
              "    background-color: var(--bg-color);\n",
              "    border: none;\n",
              "    border-radius: 50%;\n",
              "    cursor: pointer;\n",
              "    display: none;\n",
              "    fill: var(--fill-color);\n",
              "    height: 32px;\n",
              "    padding: 0;\n",
              "    width: 32px;\n",
              "  }\n",
              "\n",
              "  .colab-df-quickchart:hover {\n",
              "    background-color: var(--hover-bg-color);\n",
              "    box-shadow: 0 1px 2px rgba(60, 64, 67, 0.3), 0 1px 3px 1px rgba(60, 64, 67, 0.15);\n",
              "    fill: var(--button-hover-fill-color);\n",
              "  }\n",
              "\n",
              "  .colab-df-quickchart-complete:disabled,\n",
              "  .colab-df-quickchart-complete:disabled:hover {\n",
              "    background-color: var(--disabled-bg-color);\n",
              "    fill: var(--disabled-fill-color);\n",
              "    box-shadow: none;\n",
              "  }\n",
              "\n",
              "  .colab-df-spinner {\n",
              "    border: 2px solid var(--fill-color);\n",
              "    border-color: transparent;\n",
              "    border-bottom-color: var(--fill-color);\n",
              "    animation:\n",
              "      spin 1s steps(1) infinite;\n",
              "  }\n",
              "\n",
              "  @keyframes spin {\n",
              "    0% {\n",
              "      border-color: transparent;\n",
              "      border-bottom-color: var(--fill-color);\n",
              "      border-left-color: var(--fill-color);\n",
              "    }\n",
              "    20% {\n",
              "      border-color: transparent;\n",
              "      border-left-color: var(--fill-color);\n",
              "      border-top-color: var(--fill-color);\n",
              "    }\n",
              "    30% {\n",
              "      border-color: transparent;\n",
              "      border-left-color: var(--fill-color);\n",
              "      border-top-color: var(--fill-color);\n",
              "      border-right-color: var(--fill-color);\n",
              "    }\n",
              "    40% {\n",
              "      border-color: transparent;\n",
              "      border-right-color: var(--fill-color);\n",
              "      border-top-color: var(--fill-color);\n",
              "    }\n",
              "    60% {\n",
              "      border-color: transparent;\n",
              "      border-right-color: var(--fill-color);\n",
              "    }\n",
              "    80% {\n",
              "      border-color: transparent;\n",
              "      border-right-color: var(--fill-color);\n",
              "      border-bottom-color: var(--fill-color);\n",
              "    }\n",
              "    90% {\n",
              "      border-color: transparent;\n",
              "      border-bottom-color: var(--fill-color);\n",
              "    }\n",
              "  }\n",
              "</style>\n",
              "\n",
              "  <script>\n",
              "    async function quickchart(key) {\n",
              "      const quickchartButtonEl =\n",
              "        document.querySelector('#' + key + ' button');\n",
              "      quickchartButtonEl.disabled = true;  // To prevent multiple clicks.\n",
              "      quickchartButtonEl.classList.add('colab-df-spinner');\n",
              "      try {\n",
              "        const charts = await google.colab.kernel.invokeFunction(\n",
              "            'suggestCharts', [key], {});\n",
              "      } catch (error) {\n",
              "        console.error('Error during call to suggestCharts:', error);\n",
              "      }\n",
              "      quickchartButtonEl.classList.remove('colab-df-spinner');\n",
              "      quickchartButtonEl.classList.add('colab-df-quickchart-complete');\n",
              "    }\n",
              "    (() => {\n",
              "      let quickchartButtonEl =\n",
              "        document.querySelector('#df-b5bef76a-0c67-4cb7-9818-a3d18a076943 button');\n",
              "      quickchartButtonEl.style.display =\n",
              "        google.colab.kernel.accessAllowed ? 'block' : 'none';\n",
              "    })();\n",
              "  </script>\n",
              "</div>\n",
              "\n",
              "  <div id=\"id_850e4d30-db52-4a2d-9fe5-374885efbe0c\">\n",
              "    <style>\n",
              "      .colab-df-generate {\n",
              "        background-color: #E8F0FE;\n",
              "        border: none;\n",
              "        border-radius: 50%;\n",
              "        cursor: pointer;\n",
              "        display: none;\n",
              "        fill: #1967D2;\n",
              "        height: 32px;\n",
              "        padding: 0 0 0 0;\n",
              "        width: 32px;\n",
              "      }\n",
              "\n",
              "      .colab-df-generate:hover {\n",
              "        background-color: #E2EBFA;\n",
              "        box-shadow: 0px 1px 2px rgba(60, 64, 67, 0.3), 0px 1px 3px 1px rgba(60, 64, 67, 0.15);\n",
              "        fill: #174EA6;\n",
              "      }\n",
              "\n",
              "      [theme=dark] .colab-df-generate {\n",
              "        background-color: #3B4455;\n",
              "        fill: #D2E3FC;\n",
              "      }\n",
              "\n",
              "      [theme=dark] .colab-df-generate:hover {\n",
              "        background-color: #434B5C;\n",
              "        box-shadow: 0px 1px 3px 1px rgba(0, 0, 0, 0.15);\n",
              "        filter: drop-shadow(0px 1px 2px rgba(0, 0, 0, 0.3));\n",
              "        fill: #FFFFFF;\n",
              "      }\n",
              "    </style>\n",
              "    <button class=\"colab-df-generate\" onclick=\"generateWithVariable('survey_meta_pivoted')\"\n",
              "            title=\"Generate code using this dataframe.\"\n",
              "            style=\"display:none;\">\n",
              "\n",
              "  <svg xmlns=\"http://www.w3.org/2000/svg\" height=\"24px\"viewBox=\"0 0 24 24\"\n",
              "       width=\"24px\">\n",
              "    <path d=\"M7,19H8.4L18.45,9,17,7.55,7,17.6ZM5,21V16.75L18.45,3.32a2,2,0,0,1,2.83,0l1.4,1.43a1.91,1.91,0,0,1,.58,1.4,1.91,1.91,0,0,1-.58,1.4L9.25,21ZM18.45,9,17,7.55Zm-12,3A5.31,5.31,0,0,0,4.9,8.1,5.31,5.31,0,0,0,1,6.5,5.31,5.31,0,0,0,4.9,4.9,5.31,5.31,0,0,0,6.5,1,5.31,5.31,0,0,0,8.1,4.9,5.31,5.31,0,0,0,12,6.5,5.46,5.46,0,0,0,6.5,12Z\"/>\n",
              "  </svg>\n",
              "    </button>\n",
              "    <script>\n",
              "      (() => {\n",
              "      const buttonEl =\n",
              "        document.querySelector('#id_850e4d30-db52-4a2d-9fe5-374885efbe0c button.colab-df-generate');\n",
              "      buttonEl.style.display =\n",
              "        google.colab.kernel.accessAllowed ? 'block' : 'none';\n",
              "\n",
              "      buttonEl.onclick = () => {\n",
              "        google.colab.notebook.generateWithVariable('survey_meta_pivoted');\n",
              "      }\n",
              "      })();\n",
              "    </script>\n",
              "  </div>\n",
              "\n",
              "    </div>\n",
              "  </div>\n"
            ],
            "application/vnd.google.colaboratory.intrinsic+json": {
              "type": "dataframe",
              "variable_name": "survey_meta_pivoted",
              "summary": "{\n  \"name\": \"survey_meta_pivoted\",\n  \"rows\": 22,\n  \"fields\": [\n    {\n      \"column\": \"PID\",\n      \"properties\": {\n        \"dtype\": \"string\",\n        \"num_unique_values\": 22,\n        \"samples\": [\n          \"ST011\",\n          \"ST025\",\n          \"ST019\"\n        ],\n        \"semantic_type\": \"\",\n        \"description\": \"\"\n      }\n    },\n    {\n      \"column\": \"host\",\n      \"properties\": {\n        \"dtype\": \"number\",\n        \"std\": 248256,\n        \"min\": 104241,\n        \"max\": 974359,\n        \"num_unique_values\": 22,\n        \"samples\": [\n          589415,\n          842518,\n          412617\n        ],\n        \"semantic_type\": \"\",\n        \"description\": \"\"\n      }\n    },\n    {\n      \"column\": \"survey1\",\n      \"properties\": {\n        \"dtype\": \"date\",\n        \"min\": \"2024-12-04\",\n        \"max\": \"2024-12-06\",\n        \"num_unique_values\": 3,\n        \"samples\": [\n          \"2024-12-04\",\n          \"2024-12-06\",\n          \"2024-12-05\"\n        ],\n        \"semantic_type\": \"\",\n        \"description\": \"\"\n      }\n    },\n    {\n      \"column\": \"real_day_count\",\n      \"properties\": {\n        \"dtype\": \"number\",\n        \"std\": 0,\n        \"min\": 1,\n        \"max\": 3,\n        \"num_unique_values\": 3,\n        \"samples\": [\n          3,\n          1,\n          2\n        ],\n        \"semantic_type\": \"\",\n        \"description\": \"\"\n      }\n    },\n    {\n      \"column\": \"app_day_count\",\n      \"properties\": {\n        \"dtype\": \"number\",\n        \"std\": 0,\n        \"min\": 1,\n        \"max\": 3,\n        \"num_unique_values\": 3,\n        \"samples\": [\n          3,\n          1,\n          2\n        ],\n        \"semantic_type\": \"\",\n        \"description\": \"\"\n      }\n    }\n  ]\n}"
            }
          },
          "metadata": {},
          "execution_count": 96
        }
      ]
    },
    {
      "cell_type": "markdown",
      "source": [
        "Before running the cell below, make sure the Participants.xlsx is up to date."
      ],
      "metadata": {
        "id": "zq-IN9cCKjN5"
      }
    },
    {
      "cell_type": "code",
      "source": [
        "participant_data = pd.read_excel(google_drive_data_path + '/Participants.xlsx')\n",
        "\n",
        "survey_meta_manager = pd.merge(survey_meta_pivoted, participant_data, on='PID', how='right')\n",
        "\n",
        "# Sort by survey1\n",
        "survey_meta_manager = survey_meta_manager.sort_values(by='survey1')\n",
        "\n",
        "# Drop the specified columns\n",
        "survey_meta_manager = survey_meta_manager.drop(columns=['host', 'real_day_count'], errors='ignore')"
      ],
      "metadata": {
        "id": "I-up9q11ojae"
      },
      "execution_count": 111,
      "outputs": []
    },
    {
      "cell_type": "markdown",
      "source": [
        "## Check latest update"
      ],
      "metadata": {
        "id": "U7fQPjI-Bu31"
      }
    },
    {
      "cell_type": "code",
      "source": [
        "# Read and process screen data in one chain\n",
        "latest_times = (pd.read_csv(google_drive_data_path + '/screen_events.csv')\n",
        "   .groupby('pid')['endTime']\n",
        "   .max()\n",
        "   .reset_index()\n",
        "   .assign(lastUpdate=lambda x: x['endTime'].map(lambda y: convert_unix_to_date(y, return_date=False)))\n",
        "   .drop(columns=['endTime'])\n",
        "   .assign(PID=lambda x: x['pid'].str.upper())\n",
        "   .drop(columns=['pid']))\n",
        "\n",
        "# Read and process timezone data in one chain\n",
        "timezone_data = (pd.read_csv(google_drive_data_path + '/timezones.csv')\n",
        "   .assign(PID=lambda x: x['pid'].str.upper())\n",
        "   .drop(columns=['pid'])\n",
        "   [['PID', 'timezone']])\n",
        "\n",
        "# Combine all merges and data cleaning in one chain\n",
        "survey_meta_manager = (survey_meta_manager\n",
        "   .merge(latest_times, on='PID', how='left')\n",
        "   .merge(timezone_data, on='PID', how='left')\n",
        "   .assign(lastUpdate=lambda x: x['lastUpdate'].astype(str).replace('NaT', ''))\n",
        "   .fillna(''))"
      ],
      "metadata": {
        "id": "4dYK9epYoxXn"
      },
      "execution_count": 113,
      "outputs": []
    },
    {
      "cell_type": "code",
      "source": [
        "survey_meta_manager.head()"
      ],
      "metadata": {
        "colab": {
          "base_uri": "https://localhost:8080/",
          "height": 206
        },
        "id": "clwUyCGlsJIy",
        "outputId": "b7622f0e-db08-4dda-c0f6-e16967c9bda9"
      },
      "execution_count": 114,
      "outputs": [
        {
          "output_type": "execute_result",
          "data": {
            "text/plain": [
              "     PID     survey1 app_day_count                         Email  \\\n",
              "0  ST011  2024-12-04           3.0           mappscarl@gmail.com   \n",
              "1  ST028  2024-12-04           3.0         brian_60629@yahoo.com   \n",
              "2  ST027  2024-12-04           3.0      notquiterite73@gmail.com   \n",
              "3  ST026  2024-12-04           3.0            roald820@gmail.com   \n",
              "4  ST025  2024-12-04           3.0  ahaileselassie7459@gmail.com   \n",
              "\n",
              "               nick name       Date                        lastUpdate  \\\n",
              "0                   Solo 2024-12-04  2024-12-05 22:23:56.393000-05:00   \n",
              "1          Brian Troesch 2024-12-04  2024-12-06 13:38:56.367000-05:00   \n",
              "2                 Amanda 2024-12-04  2024-12-06 13:12:06.564000-05:00   \n",
              "3                   Mark 2024-12-04  2024-12-05 01:58:56.486000-05:00   \n",
              "4  America haileselassie 2024-12-04  2024-12-06 14:48:25.982000-05:00   \n",
              "\n",
              "          timezone  \n",
              "0  America/Chicago  \n",
              "1  America/Chicago  \n",
              "2  America/Chicago  \n",
              "3  America/Chicago  \n",
              "4  America/Chicago  "
            ],
            "text/html": [
              "\n",
              "  <div id=\"df-2f2397b5-8ffe-4152-9fea-21172052b2a6\" class=\"colab-df-container\">\n",
              "    <div>\n",
              "<style scoped>\n",
              "    .dataframe tbody tr th:only-of-type {\n",
              "        vertical-align: middle;\n",
              "    }\n",
              "\n",
              "    .dataframe tbody tr th {\n",
              "        vertical-align: top;\n",
              "    }\n",
              "\n",
              "    .dataframe thead th {\n",
              "        text-align: right;\n",
              "    }\n",
              "</style>\n",
              "<table border=\"1\" class=\"dataframe\">\n",
              "  <thead>\n",
              "    <tr style=\"text-align: right;\">\n",
              "      <th></th>\n",
              "      <th>PID</th>\n",
              "      <th>survey1</th>\n",
              "      <th>app_day_count</th>\n",
              "      <th>Email</th>\n",
              "      <th>nick name</th>\n",
              "      <th>Date</th>\n",
              "      <th>lastUpdate</th>\n",
              "      <th>timezone</th>\n",
              "    </tr>\n",
              "  </thead>\n",
              "  <tbody>\n",
              "    <tr>\n",
              "      <th>0</th>\n",
              "      <td>ST011</td>\n",
              "      <td>2024-12-04</td>\n",
              "      <td>3.0</td>\n",
              "      <td>mappscarl@gmail.com</td>\n",
              "      <td>Solo</td>\n",
              "      <td>2024-12-04</td>\n",
              "      <td>2024-12-05 22:23:56.393000-05:00</td>\n",
              "      <td>America/Chicago</td>\n",
              "    </tr>\n",
              "    <tr>\n",
              "      <th>1</th>\n",
              "      <td>ST028</td>\n",
              "      <td>2024-12-04</td>\n",
              "      <td>3.0</td>\n",
              "      <td>brian_60629@yahoo.com</td>\n",
              "      <td>Brian Troesch</td>\n",
              "      <td>2024-12-04</td>\n",
              "      <td>2024-12-06 13:38:56.367000-05:00</td>\n",
              "      <td>America/Chicago</td>\n",
              "    </tr>\n",
              "    <tr>\n",
              "      <th>2</th>\n",
              "      <td>ST027</td>\n",
              "      <td>2024-12-04</td>\n",
              "      <td>3.0</td>\n",
              "      <td>notquiterite73@gmail.com</td>\n",
              "      <td>Amanda</td>\n",
              "      <td>2024-12-04</td>\n",
              "      <td>2024-12-06 13:12:06.564000-05:00</td>\n",
              "      <td>America/Chicago</td>\n",
              "    </tr>\n",
              "    <tr>\n",
              "      <th>3</th>\n",
              "      <td>ST026</td>\n",
              "      <td>2024-12-04</td>\n",
              "      <td>3.0</td>\n",
              "      <td>roald820@gmail.com</td>\n",
              "      <td>Mark</td>\n",
              "      <td>2024-12-04</td>\n",
              "      <td>2024-12-05 01:58:56.486000-05:00</td>\n",
              "      <td>America/Chicago</td>\n",
              "    </tr>\n",
              "    <tr>\n",
              "      <th>4</th>\n",
              "      <td>ST025</td>\n",
              "      <td>2024-12-04</td>\n",
              "      <td>3.0</td>\n",
              "      <td>ahaileselassie7459@gmail.com</td>\n",
              "      <td>America haileselassie</td>\n",
              "      <td>2024-12-04</td>\n",
              "      <td>2024-12-06 14:48:25.982000-05:00</td>\n",
              "      <td>America/Chicago</td>\n",
              "    </tr>\n",
              "  </tbody>\n",
              "</table>\n",
              "</div>\n",
              "    <div class=\"colab-df-buttons\">\n",
              "\n",
              "  <div class=\"colab-df-container\">\n",
              "    <button class=\"colab-df-convert\" onclick=\"convertToInteractive('df-2f2397b5-8ffe-4152-9fea-21172052b2a6')\"\n",
              "            title=\"Convert this dataframe to an interactive table.\"\n",
              "            style=\"display:none;\">\n",
              "\n",
              "  <svg xmlns=\"http://www.w3.org/2000/svg\" height=\"24px\" viewBox=\"0 -960 960 960\">\n",
              "    <path d=\"M120-120v-720h720v720H120Zm60-500h600v-160H180v160Zm220 220h160v-160H400v160Zm0 220h160v-160H400v160ZM180-400h160v-160H180v160Zm440 0h160v-160H620v160ZM180-180h160v-160H180v160Zm440 0h160v-160H620v160Z\"/>\n",
              "  </svg>\n",
              "    </button>\n",
              "\n",
              "  <style>\n",
              "    .colab-df-container {\n",
              "      display:flex;\n",
              "      gap: 12px;\n",
              "    }\n",
              "\n",
              "    .colab-df-convert {\n",
              "      background-color: #E8F0FE;\n",
              "      border: none;\n",
              "      border-radius: 50%;\n",
              "      cursor: pointer;\n",
              "      display: none;\n",
              "      fill: #1967D2;\n",
              "      height: 32px;\n",
              "      padding: 0 0 0 0;\n",
              "      width: 32px;\n",
              "    }\n",
              "\n",
              "    .colab-df-convert:hover {\n",
              "      background-color: #E2EBFA;\n",
              "      box-shadow: 0px 1px 2px rgba(60, 64, 67, 0.3), 0px 1px 3px 1px rgba(60, 64, 67, 0.15);\n",
              "      fill: #174EA6;\n",
              "    }\n",
              "\n",
              "    .colab-df-buttons div {\n",
              "      margin-bottom: 4px;\n",
              "    }\n",
              "\n",
              "    [theme=dark] .colab-df-convert {\n",
              "      background-color: #3B4455;\n",
              "      fill: #D2E3FC;\n",
              "    }\n",
              "\n",
              "    [theme=dark] .colab-df-convert:hover {\n",
              "      background-color: #434B5C;\n",
              "      box-shadow: 0px 1px 3px 1px rgba(0, 0, 0, 0.15);\n",
              "      filter: drop-shadow(0px 1px 2px rgba(0, 0, 0, 0.3));\n",
              "      fill: #FFFFFF;\n",
              "    }\n",
              "  </style>\n",
              "\n",
              "    <script>\n",
              "      const buttonEl =\n",
              "        document.querySelector('#df-2f2397b5-8ffe-4152-9fea-21172052b2a6 button.colab-df-convert');\n",
              "      buttonEl.style.display =\n",
              "        google.colab.kernel.accessAllowed ? 'block' : 'none';\n",
              "\n",
              "      async function convertToInteractive(key) {\n",
              "        const element = document.querySelector('#df-2f2397b5-8ffe-4152-9fea-21172052b2a6');\n",
              "        const dataTable =\n",
              "          await google.colab.kernel.invokeFunction('convertToInteractive',\n",
              "                                                    [key], {});\n",
              "        if (!dataTable) return;\n",
              "\n",
              "        const docLinkHtml = 'Like what you see? Visit the ' +\n",
              "          '<a target=\"_blank\" href=https://colab.research.google.com/notebooks/data_table.ipynb>data table notebook</a>'\n",
              "          + ' to learn more about interactive tables.';\n",
              "        element.innerHTML = '';\n",
              "        dataTable['output_type'] = 'display_data';\n",
              "        await google.colab.output.renderOutput(dataTable, element);\n",
              "        const docLink = document.createElement('div');\n",
              "        docLink.innerHTML = docLinkHtml;\n",
              "        element.appendChild(docLink);\n",
              "      }\n",
              "    </script>\n",
              "  </div>\n",
              "\n",
              "\n",
              "<div id=\"df-4bae3b94-acc4-4d84-ab4e-746d359559a6\">\n",
              "  <button class=\"colab-df-quickchart\" onclick=\"quickchart('df-4bae3b94-acc4-4d84-ab4e-746d359559a6')\"\n",
              "            title=\"Suggest charts\"\n",
              "            style=\"display:none;\">\n",
              "\n",
              "<svg xmlns=\"http://www.w3.org/2000/svg\" height=\"24px\"viewBox=\"0 0 24 24\"\n",
              "     width=\"24px\">\n",
              "    <g>\n",
              "        <path d=\"M19 3H5c-1.1 0-2 .9-2 2v14c0 1.1.9 2 2 2h14c1.1 0 2-.9 2-2V5c0-1.1-.9-2-2-2zM9 17H7v-7h2v7zm4 0h-2V7h2v10zm4 0h-2v-4h2v4z\"/>\n",
              "    </g>\n",
              "</svg>\n",
              "  </button>\n",
              "\n",
              "<style>\n",
              "  .colab-df-quickchart {\n",
              "      --bg-color: #E8F0FE;\n",
              "      --fill-color: #1967D2;\n",
              "      --hover-bg-color: #E2EBFA;\n",
              "      --hover-fill-color: #174EA6;\n",
              "      --disabled-fill-color: #AAA;\n",
              "      --disabled-bg-color: #DDD;\n",
              "  }\n",
              "\n",
              "  [theme=dark] .colab-df-quickchart {\n",
              "      --bg-color: #3B4455;\n",
              "      --fill-color: #D2E3FC;\n",
              "      --hover-bg-color: #434B5C;\n",
              "      --hover-fill-color: #FFFFFF;\n",
              "      --disabled-bg-color: #3B4455;\n",
              "      --disabled-fill-color: #666;\n",
              "  }\n",
              "\n",
              "  .colab-df-quickchart {\n",
              "    background-color: var(--bg-color);\n",
              "    border: none;\n",
              "    border-radius: 50%;\n",
              "    cursor: pointer;\n",
              "    display: none;\n",
              "    fill: var(--fill-color);\n",
              "    height: 32px;\n",
              "    padding: 0;\n",
              "    width: 32px;\n",
              "  }\n",
              "\n",
              "  .colab-df-quickchart:hover {\n",
              "    background-color: var(--hover-bg-color);\n",
              "    box-shadow: 0 1px 2px rgba(60, 64, 67, 0.3), 0 1px 3px 1px rgba(60, 64, 67, 0.15);\n",
              "    fill: var(--button-hover-fill-color);\n",
              "  }\n",
              "\n",
              "  .colab-df-quickchart-complete:disabled,\n",
              "  .colab-df-quickchart-complete:disabled:hover {\n",
              "    background-color: var(--disabled-bg-color);\n",
              "    fill: var(--disabled-fill-color);\n",
              "    box-shadow: none;\n",
              "  }\n",
              "\n",
              "  .colab-df-spinner {\n",
              "    border: 2px solid var(--fill-color);\n",
              "    border-color: transparent;\n",
              "    border-bottom-color: var(--fill-color);\n",
              "    animation:\n",
              "      spin 1s steps(1) infinite;\n",
              "  }\n",
              "\n",
              "  @keyframes spin {\n",
              "    0% {\n",
              "      border-color: transparent;\n",
              "      border-bottom-color: var(--fill-color);\n",
              "      border-left-color: var(--fill-color);\n",
              "    }\n",
              "    20% {\n",
              "      border-color: transparent;\n",
              "      border-left-color: var(--fill-color);\n",
              "      border-top-color: var(--fill-color);\n",
              "    }\n",
              "    30% {\n",
              "      border-color: transparent;\n",
              "      border-left-color: var(--fill-color);\n",
              "      border-top-color: var(--fill-color);\n",
              "      border-right-color: var(--fill-color);\n",
              "    }\n",
              "    40% {\n",
              "      border-color: transparent;\n",
              "      border-right-color: var(--fill-color);\n",
              "      border-top-color: var(--fill-color);\n",
              "    }\n",
              "    60% {\n",
              "      border-color: transparent;\n",
              "      border-right-color: var(--fill-color);\n",
              "    }\n",
              "    80% {\n",
              "      border-color: transparent;\n",
              "      border-right-color: var(--fill-color);\n",
              "      border-bottom-color: var(--fill-color);\n",
              "    }\n",
              "    90% {\n",
              "      border-color: transparent;\n",
              "      border-bottom-color: var(--fill-color);\n",
              "    }\n",
              "  }\n",
              "</style>\n",
              "\n",
              "  <script>\n",
              "    async function quickchart(key) {\n",
              "      const quickchartButtonEl =\n",
              "        document.querySelector('#' + key + ' button');\n",
              "      quickchartButtonEl.disabled = true;  // To prevent multiple clicks.\n",
              "      quickchartButtonEl.classList.add('colab-df-spinner');\n",
              "      try {\n",
              "        const charts = await google.colab.kernel.invokeFunction(\n",
              "            'suggestCharts', [key], {});\n",
              "      } catch (error) {\n",
              "        console.error('Error during call to suggestCharts:', error);\n",
              "      }\n",
              "      quickchartButtonEl.classList.remove('colab-df-spinner');\n",
              "      quickchartButtonEl.classList.add('colab-df-quickchart-complete');\n",
              "    }\n",
              "    (() => {\n",
              "      let quickchartButtonEl =\n",
              "        document.querySelector('#df-4bae3b94-acc4-4d84-ab4e-746d359559a6 button');\n",
              "      quickchartButtonEl.style.display =\n",
              "        google.colab.kernel.accessAllowed ? 'block' : 'none';\n",
              "    })();\n",
              "  </script>\n",
              "</div>\n",
              "\n",
              "    </div>\n",
              "  </div>\n"
            ],
            "application/vnd.google.colaboratory.intrinsic+json": {
              "type": "dataframe",
              "variable_name": "survey_meta_manager",
              "summary": "{\n  \"name\": \"survey_meta_manager\",\n  \"rows\": 31,\n  \"fields\": [\n    {\n      \"column\": \"PID\",\n      \"properties\": {\n        \"dtype\": \"string\",\n        \"num_unique_values\": 31,\n        \"samples\": [\n          \"ST036\",\n          \"ST030\",\n          \"ST022\"\n        ],\n        \"semantic_type\": \"\",\n        \"description\": \"\"\n      }\n    },\n    {\n      \"column\": \"survey1\",\n      \"properties\": {\n        \"dtype\": \"date\",\n        \"min\": \"2024-12-04 00:00:00\",\n        \"max\": \"2024-12-06 00:00:00\",\n        \"num_unique_values\": 4,\n        \"samples\": [\n          \"2024-12-05\",\n          \"\",\n          \"2024-12-04\"\n        ],\n        \"semantic_type\": \"\",\n        \"description\": \"\"\n      }\n    },\n    {\n      \"column\": \"app_day_count\",\n      \"properties\": {\n        \"dtype\": \"date\",\n        \"min\": \"1970-01-01 00:00:00.000000001\",\n        \"max\": \"1970-01-01 00:00:00.000000003\",\n        \"num_unique_values\": 4,\n        \"samples\": [\n          2.0,\n          \"\",\n          3.0\n        ],\n        \"semantic_type\": \"\",\n        \"description\": \"\"\n      }\n    },\n    {\n      \"column\": \"Email\",\n      \"properties\": {\n        \"dtype\": \"string\",\n        \"num_unique_values\": 31,\n        \"samples\": [\n          \"dianawilson0911@gmail.com\",\n          \"simmsmba@gmail.com\",\n          \"davidwaters54367@gmail.com\"\n        ],\n        \"semantic_type\": \"\",\n        \"description\": \"\"\n      }\n    },\n    {\n      \"column\": \"nick name\",\n      \"properties\": {\n        \"dtype\": \"string\",\n        \"num_unique_values\": 29,\n        \"samples\": [\n          \"John\",\n          \"alex\",\n          \"David\"\n        ],\n        \"semantic_type\": \"\",\n        \"description\": \"\"\n      }\n    },\n    {\n      \"column\": \"Date\",\n      \"properties\": {\n        \"dtype\": \"date\",\n        \"min\": \"2024-12-04 00:00:00\",\n        \"max\": \"2024-12-06 00:00:00\",\n        \"num_unique_values\": 3,\n        \"samples\": [\n          \"2024-12-04 00:00:00\",\n          \"2024-12-05 00:00:00\",\n          \"2024-12-06 00:00:00\"\n        ],\n        \"semantic_type\": \"\",\n        \"description\": \"\"\n      }\n    },\n    {\n      \"column\": \"lastUpdate\",\n      \"properties\": {\n        \"dtype\": \"object\",\n        \"num_unique_values\": 22,\n        \"samples\": [\n          \"2024-12-05 22:23:56.393000-05:00\",\n          \"2024-12-06 12:53:43.947000-05:00\",\n          \"2024-12-05 22:06:05.107000-05:00\"\n        ],\n        \"semantic_type\": \"\",\n        \"description\": \"\"\n      }\n    },\n    {\n      \"column\": \"timezone\",\n      \"properties\": {\n        \"dtype\": \"category\",\n        \"num_unique_values\": 7,\n        \"samples\": [\n          \"America/Chicago\",\n          \"America/New_York\",\n          \"America/Denver\"\n        ],\n        \"semantic_type\": \"\",\n        \"description\": \"\"\n      }\n    }\n  ]\n}"
            }
          },
          "metadata": {},
          "execution_count": 114
        }
      ]
    },
    {
      "cell_type": "markdown",
      "source": [
        "Update lastUpdate with Timezone"
      ],
      "metadata": {
        "id": "TrwVqrG6sqyE"
      }
    },
    {
      "cell_type": "code",
      "source": [
        "# Replace NaN values with empty strings\n",
        "survey_meta_manager = survey_meta_manager.fillna('')"
      ],
      "metadata": {
        "id": "fqCs2h7zuuWq"
      },
      "execution_count": 109,
      "outputs": []
    },
    {
      "cell_type": "code",
      "source": [
        "import pandas as pd\n",
        "from datetime import datetime\n",
        "import pytz\n",
        "\n",
        "def convert_to_local_time(row):\n",
        "    # Skip rows where either lastUpdate or timezone is missing\n",
        "    if pd.isna(row['lastUpdate']) or pd.isna(row['timezone']):\n",
        "        return pd.NaT\n",
        "\n",
        "    try:\n",
        "        # Parse the timestamp\n",
        "        dt = pd.to_datetime(row['lastUpdate'])\n",
        "        if pd.isna(dt):\n",
        "            return pd.NaT\n",
        "\n",
        "        # Get source timezone (EST/EDT)\n",
        "        source_tz = pytz.timezone('America/New_York')\n",
        "\n",
        "        # Localize the datetime\n",
        "        dt_source = source_tz.localize(dt.tz_localize(None))\n",
        "\n",
        "        # Convert to target timezone\n",
        "        target_tz = pytz.timezone(row['timezone'])\n",
        "        dt_target = dt_source.astimezone(target_tz)\n",
        "\n",
        "        return dt_target\n",
        "\n",
        "    except (ValueError, AttributeError):\n",
        "        return pd.NaT\n",
        "\n",
        "# Apply the conversion\n",
        "survey_meta_manager['local_time'] = survey_meta_manager.apply(convert_to_local_time, axis=1)\n"
      ],
      "metadata": {
        "id": "qNxSDxWyuSx7"
      },
      "execution_count": 115,
      "outputs": []
    },
    {
      "cell_type": "code",
      "source": [
        "# Replace \"NaT\" with empty strings in the 'lastUpdate' column\n",
        "survey_meta_manager['local_time'] = survey_meta_manager['local_time'].astype(str).replace('NaT', '')"
      ],
      "metadata": {
        "id": "2kSClJzlvGs-"
      },
      "execution_count": 116,
      "outputs": []
    },
    {
      "cell_type": "code",
      "source": [
        "def calculate_time_lapse(last_update):\n",
        "    if pd.isna(last_update):\n",
        "        return None\n",
        "\n",
        "    # Get current time in EST (since lastUpdate is in EST)\n",
        "    est = pytz.timezone('America/New_York')\n",
        "    now = datetime.now(est)\n",
        "\n",
        "    try:\n",
        "        # Parse lastUpdate with timezone info (-05:00 is already in the data)\n",
        "        last_update = pd.to_datetime(last_update, utc=True)\n",
        "        last_update = last_update.astimezone(est)\n",
        "\n",
        "        # Calculate time difference\n",
        "        time_diff = now - last_update\n",
        "\n",
        "        # Convert to hours and minutes\n",
        "        total_minutes = time_diff.total_seconds() / 60\n",
        "        hours = int(total_minutes // 60)\n",
        "        minutes = int(total_minutes % 60)\n",
        "\n",
        "        # Format as HH:MM\n",
        "        return f\"{hours:02d}:{minutes:02d}\"\n",
        "    except:\n",
        "        return None\n",
        "\n",
        "# Calculate time lapse for each row\n",
        "survey_meta_manager['time_lapse'] = survey_meta_manager['lastUpdate'].apply(calculate_time_lapse)\n"
      ],
      "metadata": {
        "id": "8IY8RuwnvuUr"
      },
      "execution_count": 117,
      "outputs": []
    },
    {
      "cell_type": "code",
      "source": [
        "# prompt: Rename \"nick name\":\"nick_name\", \"timezone\":\"time_zone\", \"local_time\":\"last_update_local\",\"time_lapse\":\"lapse_last_update\"\n",
        "\n",
        "# Rename the columns\n",
        "survey_meta_manager = survey_meta_manager.rename(columns={\n",
        "    \"survey1\": \"start_date\",\n",
        "    \"nick name\": \"nick_name\",\n",
        "    \"timezone\": \"time_zone\",\n",
        "    \"local_time\": \"last_update_local\",\n",
        "    \"time_lapse\": \"lapse_last_update\"\n",
        "})"
      ],
      "metadata": {
        "id": "lbMsl5plZ90-"
      },
      "execution_count": 118,
      "outputs": []
    },
    {
      "cell_type": "code",
      "source": [
        "# prompt: reorder the columns: PID, Email, nick_name, start_date, app_day_count, last_update_local, lapse_last_update\n",
        "\n",
        "# Reorder the columns\n",
        "new_column_order = ['PID', 'Email', 'nick_name', 'start_date', 'app_day_count', 'last_update_local', 'lapse_last_update']\n",
        "survey_meta_manager = survey_meta_manager[new_column_order]"
      ],
      "metadata": {
        "id": "l743BvC9bMtO"
      },
      "execution_count": 119,
      "outputs": []
    },
    {
      "cell_type": "code",
      "source": [
        "survey_meta_manager"
      ],
      "metadata": {
        "colab": {
          "base_uri": "https://localhost:8080/",
          "height": 1000
        },
        "id": "_f5-aDfTvW_7",
        "outputId": "323c00f6-2737-4909-b1db-e33ca89b0ba0"
      },
      "execution_count": 120,
      "outputs": [
        {
          "output_type": "execute_result",
          "data": {
            "text/plain": [
              "      PID                          Email              nick_name  start_date  \\\n",
              "0   ST011            mappscarl@gmail.com                   Solo  2024-12-04   \n",
              "1   ST028          brian_60629@yahoo.com          Brian Troesch  2024-12-04   \n",
              "2   ST027       notquiterite73@gmail.com                 Amanda  2024-12-04   \n",
              "3   ST026             roald820@gmail.com                   Mark  2024-12-04   \n",
              "4   ST025   ahaileselassie7459@gmail.com  America haileselassie  2024-12-04   \n",
              "5   ST023           ktippett05@nc.rr.com                    Kim  2024-12-04   \n",
              "6   ST019              hongvuh@gmail.com                   Hong  2024-12-04   \n",
              "7   ST021         shelomohtony@gmail.com                  Moshe  2024-12-04   \n",
              "8   ST017             yk010181@yahoo.com                    Jon  2024-12-04   \n",
              "9   ST015         jimoreno2055@gmail.com                   Juan  2024-12-04   \n",
              "10  ST014       sadiesantacruz@gmail.com                  Sadie  2024-12-04   \n",
              "11  ST013        santanana2000@yahoo.com                    dan  2024-12-04   \n",
              "12  ST012                djsboca@aol.com                  David  2024-12-04   \n",
              "13  ST033           owen.micch@gmail.com                  Micch  2024-12-05   \n",
              "14  ST024      noahsschool2018@gmail.com                   Noah  2024-12-05   \n",
              "15  ST030             simmsmba@gmail.com            TRACY SIMMS  2024-12-05   \n",
              "16  ST031         alexrhonda37@gmail.com                   alex  2024-12-05   \n",
              "17  ST018              ssksg73@gmail.com                    Kim  2024-12-05   \n",
              "18  ST034        peacepulisic1@gmail.com                  Peace  2024-12-05   \n",
              "19  ST020            ibbincome@gmail.com            John Agenor  2024-12-06   \n",
              "20  ST016         huang_zeyu@outlook.com                   Zeyu  2024-12-06   \n",
              "21  ME000          qweroucherr@gmail.com                   Qwer               \n",
              "22  ME001               jzheng23@umd.edu                   Alex               \n",
              "23  ST022     davidwaters54367@gmail.com                  David               \n",
              "24  ST029          nkaganovsky@gmail.com      Nicole Krivitskiy               \n",
              "25  ST032        laurenjrich@outlook.com                 Lauren               \n",
              "26  ST035  christiansorensen54@gmail.com                  Chris               \n",
              "27  ST036      dianawilson0911@gmail.com           Diana Wilson               \n",
              "28  ST037     frankcampbell495@gmail.com         Frank Campbell               \n",
              "29  ST038            jthird253@gmail.com                   John               \n",
              "30  ST039      brownmartins504@gmail.com                Martins               \n",
              "\n",
              "   app_day_count                 last_update_local lapse_last_update  \n",
              "0            3.0  2024-12-05 21:23:56.393000-06:00             17:16  \n",
              "1            3.0  2024-12-06 12:38:56.367000-06:00             02:01  \n",
              "2            3.0  2024-12-06 12:12:06.564000-06:00             02:28  \n",
              "3            3.0  2024-12-05 00:58:56.486000-06:00             37:41  \n",
              "4            3.0  2024-12-06 13:48:25.982000-06:00             00:52  \n",
              "5            3.0  2024-12-06 14:59:32.530000-05:00             00:41  \n",
              "6            3.0  2024-12-06 14:56:31.877000-05:00             00:44  \n",
              "7            3.0  2024-12-05 12:27:28.197000-05:00             27:13  \n",
              "8            3.0  2024-12-05 19:06:05.107000-08:00             17:34  \n",
              "9            3.0  2024-12-06 09:12:30.076000-03:00             08:28  \n",
              "10           3.0  2024-12-06 13:43:13.100000-06:00             00:57  \n",
              "11           3.0  2024-12-06 13:57:11.952000-06:00             00:43  \n",
              "12           3.0  2024-12-06 14:54:12.535000-05:00             00:46  \n",
              "13           2.0  2024-12-06 12:53:43.947000-05:00             02:46  \n",
              "14           2.0  2024-12-06 14:03:07.520000-05:00             01:37  \n",
              "15           2.0  2024-12-06 12:56:22.179000-06:00             01:44  \n",
              "16           2.0  2024-12-06 10:50:46.511000-06:00             03:49  \n",
              "17           2.0  2024-12-06 09:30:14.118000-07:00             04:10  \n",
              "18           2.0  2024-12-06 12:53:43.932000-05:00             02:46  \n",
              "19           1.0  2024-12-06 14:54:38.922000-05:00             00:45  \n",
              "20           1.0  2024-12-06 14:50:08.269000-05:00             00:50  \n",
              "21                                                              None  \n",
              "22                                                              None  \n",
              "23                                                              None  \n",
              "24                                                              None  \n",
              "25                                                              None  \n",
              "26                                                              None  \n",
              "27                                                              None  \n",
              "28                                                              None  \n",
              "29                                                              None  \n",
              "30                                                              None  "
            ],
            "text/html": [
              "\n",
              "  <div id=\"df-b323a10c-5aae-4294-a633-e525d13b9729\" class=\"colab-df-container\">\n",
              "    <div>\n",
              "<style scoped>\n",
              "    .dataframe tbody tr th:only-of-type {\n",
              "        vertical-align: middle;\n",
              "    }\n",
              "\n",
              "    .dataframe tbody tr th {\n",
              "        vertical-align: top;\n",
              "    }\n",
              "\n",
              "    .dataframe thead th {\n",
              "        text-align: right;\n",
              "    }\n",
              "</style>\n",
              "<table border=\"1\" class=\"dataframe\">\n",
              "  <thead>\n",
              "    <tr style=\"text-align: right;\">\n",
              "      <th></th>\n",
              "      <th>PID</th>\n",
              "      <th>Email</th>\n",
              "      <th>nick_name</th>\n",
              "      <th>start_date</th>\n",
              "      <th>app_day_count</th>\n",
              "      <th>last_update_local</th>\n",
              "      <th>lapse_last_update</th>\n",
              "    </tr>\n",
              "  </thead>\n",
              "  <tbody>\n",
              "    <tr>\n",
              "      <th>0</th>\n",
              "      <td>ST011</td>\n",
              "      <td>mappscarl@gmail.com</td>\n",
              "      <td>Solo</td>\n",
              "      <td>2024-12-04</td>\n",
              "      <td>3.0</td>\n",
              "      <td>2024-12-05 21:23:56.393000-06:00</td>\n",
              "      <td>17:16</td>\n",
              "    </tr>\n",
              "    <tr>\n",
              "      <th>1</th>\n",
              "      <td>ST028</td>\n",
              "      <td>brian_60629@yahoo.com</td>\n",
              "      <td>Brian Troesch</td>\n",
              "      <td>2024-12-04</td>\n",
              "      <td>3.0</td>\n",
              "      <td>2024-12-06 12:38:56.367000-06:00</td>\n",
              "      <td>02:01</td>\n",
              "    </tr>\n",
              "    <tr>\n",
              "      <th>2</th>\n",
              "      <td>ST027</td>\n",
              "      <td>notquiterite73@gmail.com</td>\n",
              "      <td>Amanda</td>\n",
              "      <td>2024-12-04</td>\n",
              "      <td>3.0</td>\n",
              "      <td>2024-12-06 12:12:06.564000-06:00</td>\n",
              "      <td>02:28</td>\n",
              "    </tr>\n",
              "    <tr>\n",
              "      <th>3</th>\n",
              "      <td>ST026</td>\n",
              "      <td>roald820@gmail.com</td>\n",
              "      <td>Mark</td>\n",
              "      <td>2024-12-04</td>\n",
              "      <td>3.0</td>\n",
              "      <td>2024-12-05 00:58:56.486000-06:00</td>\n",
              "      <td>37:41</td>\n",
              "    </tr>\n",
              "    <tr>\n",
              "      <th>4</th>\n",
              "      <td>ST025</td>\n",
              "      <td>ahaileselassie7459@gmail.com</td>\n",
              "      <td>America haileselassie</td>\n",
              "      <td>2024-12-04</td>\n",
              "      <td>3.0</td>\n",
              "      <td>2024-12-06 13:48:25.982000-06:00</td>\n",
              "      <td>00:52</td>\n",
              "    </tr>\n",
              "    <tr>\n",
              "      <th>5</th>\n",
              "      <td>ST023</td>\n",
              "      <td>ktippett05@nc.rr.com</td>\n",
              "      <td>Kim</td>\n",
              "      <td>2024-12-04</td>\n",
              "      <td>3.0</td>\n",
              "      <td>2024-12-06 14:59:32.530000-05:00</td>\n",
              "      <td>00:41</td>\n",
              "    </tr>\n",
              "    <tr>\n",
              "      <th>6</th>\n",
              "      <td>ST019</td>\n",
              "      <td>hongvuh@gmail.com</td>\n",
              "      <td>Hong</td>\n",
              "      <td>2024-12-04</td>\n",
              "      <td>3.0</td>\n",
              "      <td>2024-12-06 14:56:31.877000-05:00</td>\n",
              "      <td>00:44</td>\n",
              "    </tr>\n",
              "    <tr>\n",
              "      <th>7</th>\n",
              "      <td>ST021</td>\n",
              "      <td>shelomohtony@gmail.com</td>\n",
              "      <td>Moshe</td>\n",
              "      <td>2024-12-04</td>\n",
              "      <td>3.0</td>\n",
              "      <td>2024-12-05 12:27:28.197000-05:00</td>\n",
              "      <td>27:13</td>\n",
              "    </tr>\n",
              "    <tr>\n",
              "      <th>8</th>\n",
              "      <td>ST017</td>\n",
              "      <td>yk010181@yahoo.com</td>\n",
              "      <td>Jon</td>\n",
              "      <td>2024-12-04</td>\n",
              "      <td>3.0</td>\n",
              "      <td>2024-12-05 19:06:05.107000-08:00</td>\n",
              "      <td>17:34</td>\n",
              "    </tr>\n",
              "    <tr>\n",
              "      <th>9</th>\n",
              "      <td>ST015</td>\n",
              "      <td>jimoreno2055@gmail.com</td>\n",
              "      <td>Juan</td>\n",
              "      <td>2024-12-04</td>\n",
              "      <td>3.0</td>\n",
              "      <td>2024-12-06 09:12:30.076000-03:00</td>\n",
              "      <td>08:28</td>\n",
              "    </tr>\n",
              "    <tr>\n",
              "      <th>10</th>\n",
              "      <td>ST014</td>\n",
              "      <td>sadiesantacruz@gmail.com</td>\n",
              "      <td>Sadie</td>\n",
              "      <td>2024-12-04</td>\n",
              "      <td>3.0</td>\n",
              "      <td>2024-12-06 13:43:13.100000-06:00</td>\n",
              "      <td>00:57</td>\n",
              "    </tr>\n",
              "    <tr>\n",
              "      <th>11</th>\n",
              "      <td>ST013</td>\n",
              "      <td>santanana2000@yahoo.com</td>\n",
              "      <td>dan</td>\n",
              "      <td>2024-12-04</td>\n",
              "      <td>3.0</td>\n",
              "      <td>2024-12-06 13:57:11.952000-06:00</td>\n",
              "      <td>00:43</td>\n",
              "    </tr>\n",
              "    <tr>\n",
              "      <th>12</th>\n",
              "      <td>ST012</td>\n",
              "      <td>djsboca@aol.com</td>\n",
              "      <td>David</td>\n",
              "      <td>2024-12-04</td>\n",
              "      <td>3.0</td>\n",
              "      <td>2024-12-06 14:54:12.535000-05:00</td>\n",
              "      <td>00:46</td>\n",
              "    </tr>\n",
              "    <tr>\n",
              "      <th>13</th>\n",
              "      <td>ST033</td>\n",
              "      <td>owen.micch@gmail.com</td>\n",
              "      <td>Micch</td>\n",
              "      <td>2024-12-05</td>\n",
              "      <td>2.0</td>\n",
              "      <td>2024-12-06 12:53:43.947000-05:00</td>\n",
              "      <td>02:46</td>\n",
              "    </tr>\n",
              "    <tr>\n",
              "      <th>14</th>\n",
              "      <td>ST024</td>\n",
              "      <td>noahsschool2018@gmail.com</td>\n",
              "      <td>Noah</td>\n",
              "      <td>2024-12-05</td>\n",
              "      <td>2.0</td>\n",
              "      <td>2024-12-06 14:03:07.520000-05:00</td>\n",
              "      <td>01:37</td>\n",
              "    </tr>\n",
              "    <tr>\n",
              "      <th>15</th>\n",
              "      <td>ST030</td>\n",
              "      <td>simmsmba@gmail.com</td>\n",
              "      <td>TRACY SIMMS</td>\n",
              "      <td>2024-12-05</td>\n",
              "      <td>2.0</td>\n",
              "      <td>2024-12-06 12:56:22.179000-06:00</td>\n",
              "      <td>01:44</td>\n",
              "    </tr>\n",
              "    <tr>\n",
              "      <th>16</th>\n",
              "      <td>ST031</td>\n",
              "      <td>alexrhonda37@gmail.com</td>\n",
              "      <td>alex</td>\n",
              "      <td>2024-12-05</td>\n",
              "      <td>2.0</td>\n",
              "      <td>2024-12-06 10:50:46.511000-06:00</td>\n",
              "      <td>03:49</td>\n",
              "    </tr>\n",
              "    <tr>\n",
              "      <th>17</th>\n",
              "      <td>ST018</td>\n",
              "      <td>ssksg73@gmail.com</td>\n",
              "      <td>Kim</td>\n",
              "      <td>2024-12-05</td>\n",
              "      <td>2.0</td>\n",
              "      <td>2024-12-06 09:30:14.118000-07:00</td>\n",
              "      <td>04:10</td>\n",
              "    </tr>\n",
              "    <tr>\n",
              "      <th>18</th>\n",
              "      <td>ST034</td>\n",
              "      <td>peacepulisic1@gmail.com</td>\n",
              "      <td>Peace</td>\n",
              "      <td>2024-12-05</td>\n",
              "      <td>2.0</td>\n",
              "      <td>2024-12-06 12:53:43.932000-05:00</td>\n",
              "      <td>02:46</td>\n",
              "    </tr>\n",
              "    <tr>\n",
              "      <th>19</th>\n",
              "      <td>ST020</td>\n",
              "      <td>ibbincome@gmail.com</td>\n",
              "      <td>John Agenor</td>\n",
              "      <td>2024-12-06</td>\n",
              "      <td>1.0</td>\n",
              "      <td>2024-12-06 14:54:38.922000-05:00</td>\n",
              "      <td>00:45</td>\n",
              "    </tr>\n",
              "    <tr>\n",
              "      <th>20</th>\n",
              "      <td>ST016</td>\n",
              "      <td>huang_zeyu@outlook.com</td>\n",
              "      <td>Zeyu</td>\n",
              "      <td>2024-12-06</td>\n",
              "      <td>1.0</td>\n",
              "      <td>2024-12-06 14:50:08.269000-05:00</td>\n",
              "      <td>00:50</td>\n",
              "    </tr>\n",
              "    <tr>\n",
              "      <th>21</th>\n",
              "      <td>ME000</td>\n",
              "      <td>qweroucherr@gmail.com</td>\n",
              "      <td>Qwer</td>\n",
              "      <td></td>\n",
              "      <td></td>\n",
              "      <td></td>\n",
              "      <td>None</td>\n",
              "    </tr>\n",
              "    <tr>\n",
              "      <th>22</th>\n",
              "      <td>ME001</td>\n",
              "      <td>jzheng23@umd.edu</td>\n",
              "      <td>Alex</td>\n",
              "      <td></td>\n",
              "      <td></td>\n",
              "      <td></td>\n",
              "      <td>None</td>\n",
              "    </tr>\n",
              "    <tr>\n",
              "      <th>23</th>\n",
              "      <td>ST022</td>\n",
              "      <td>davidwaters54367@gmail.com</td>\n",
              "      <td>David</td>\n",
              "      <td></td>\n",
              "      <td></td>\n",
              "      <td></td>\n",
              "      <td>None</td>\n",
              "    </tr>\n",
              "    <tr>\n",
              "      <th>24</th>\n",
              "      <td>ST029</td>\n",
              "      <td>nkaganovsky@gmail.com</td>\n",
              "      <td>Nicole Krivitskiy</td>\n",
              "      <td></td>\n",
              "      <td></td>\n",
              "      <td></td>\n",
              "      <td>None</td>\n",
              "    </tr>\n",
              "    <tr>\n",
              "      <th>25</th>\n",
              "      <td>ST032</td>\n",
              "      <td>laurenjrich@outlook.com</td>\n",
              "      <td>Lauren</td>\n",
              "      <td></td>\n",
              "      <td></td>\n",
              "      <td></td>\n",
              "      <td>None</td>\n",
              "    </tr>\n",
              "    <tr>\n",
              "      <th>26</th>\n",
              "      <td>ST035</td>\n",
              "      <td>christiansorensen54@gmail.com</td>\n",
              "      <td>Chris</td>\n",
              "      <td></td>\n",
              "      <td></td>\n",
              "      <td></td>\n",
              "      <td>None</td>\n",
              "    </tr>\n",
              "    <tr>\n",
              "      <th>27</th>\n",
              "      <td>ST036</td>\n",
              "      <td>dianawilson0911@gmail.com</td>\n",
              "      <td>Diana Wilson</td>\n",
              "      <td></td>\n",
              "      <td></td>\n",
              "      <td></td>\n",
              "      <td>None</td>\n",
              "    </tr>\n",
              "    <tr>\n",
              "      <th>28</th>\n",
              "      <td>ST037</td>\n",
              "      <td>frankcampbell495@gmail.com</td>\n",
              "      <td>Frank Campbell</td>\n",
              "      <td></td>\n",
              "      <td></td>\n",
              "      <td></td>\n",
              "      <td>None</td>\n",
              "    </tr>\n",
              "    <tr>\n",
              "      <th>29</th>\n",
              "      <td>ST038</td>\n",
              "      <td>jthird253@gmail.com</td>\n",
              "      <td>John</td>\n",
              "      <td></td>\n",
              "      <td></td>\n",
              "      <td></td>\n",
              "      <td>None</td>\n",
              "    </tr>\n",
              "    <tr>\n",
              "      <th>30</th>\n",
              "      <td>ST039</td>\n",
              "      <td>brownmartins504@gmail.com</td>\n",
              "      <td>Martins</td>\n",
              "      <td></td>\n",
              "      <td></td>\n",
              "      <td></td>\n",
              "      <td>None</td>\n",
              "    </tr>\n",
              "  </tbody>\n",
              "</table>\n",
              "</div>\n",
              "    <div class=\"colab-df-buttons\">\n",
              "\n",
              "  <div class=\"colab-df-container\">\n",
              "    <button class=\"colab-df-convert\" onclick=\"convertToInteractive('df-b323a10c-5aae-4294-a633-e525d13b9729')\"\n",
              "            title=\"Convert this dataframe to an interactive table.\"\n",
              "            style=\"display:none;\">\n",
              "\n",
              "  <svg xmlns=\"http://www.w3.org/2000/svg\" height=\"24px\" viewBox=\"0 -960 960 960\">\n",
              "    <path d=\"M120-120v-720h720v720H120Zm60-500h600v-160H180v160Zm220 220h160v-160H400v160Zm0 220h160v-160H400v160ZM180-400h160v-160H180v160Zm440 0h160v-160H620v160ZM180-180h160v-160H180v160Zm440 0h160v-160H620v160Z\"/>\n",
              "  </svg>\n",
              "    </button>\n",
              "\n",
              "  <style>\n",
              "    .colab-df-container {\n",
              "      display:flex;\n",
              "      gap: 12px;\n",
              "    }\n",
              "\n",
              "    .colab-df-convert {\n",
              "      background-color: #E8F0FE;\n",
              "      border: none;\n",
              "      border-radius: 50%;\n",
              "      cursor: pointer;\n",
              "      display: none;\n",
              "      fill: #1967D2;\n",
              "      height: 32px;\n",
              "      padding: 0 0 0 0;\n",
              "      width: 32px;\n",
              "    }\n",
              "\n",
              "    .colab-df-convert:hover {\n",
              "      background-color: #E2EBFA;\n",
              "      box-shadow: 0px 1px 2px rgba(60, 64, 67, 0.3), 0px 1px 3px 1px rgba(60, 64, 67, 0.15);\n",
              "      fill: #174EA6;\n",
              "    }\n",
              "\n",
              "    .colab-df-buttons div {\n",
              "      margin-bottom: 4px;\n",
              "    }\n",
              "\n",
              "    [theme=dark] .colab-df-convert {\n",
              "      background-color: #3B4455;\n",
              "      fill: #D2E3FC;\n",
              "    }\n",
              "\n",
              "    [theme=dark] .colab-df-convert:hover {\n",
              "      background-color: #434B5C;\n",
              "      box-shadow: 0px 1px 3px 1px rgba(0, 0, 0, 0.15);\n",
              "      filter: drop-shadow(0px 1px 2px rgba(0, 0, 0, 0.3));\n",
              "      fill: #FFFFFF;\n",
              "    }\n",
              "  </style>\n",
              "\n",
              "    <script>\n",
              "      const buttonEl =\n",
              "        document.querySelector('#df-b323a10c-5aae-4294-a633-e525d13b9729 button.colab-df-convert');\n",
              "      buttonEl.style.display =\n",
              "        google.colab.kernel.accessAllowed ? 'block' : 'none';\n",
              "\n",
              "      async function convertToInteractive(key) {\n",
              "        const element = document.querySelector('#df-b323a10c-5aae-4294-a633-e525d13b9729');\n",
              "        const dataTable =\n",
              "          await google.colab.kernel.invokeFunction('convertToInteractive',\n",
              "                                                    [key], {});\n",
              "        if (!dataTable) return;\n",
              "\n",
              "        const docLinkHtml = 'Like what you see? Visit the ' +\n",
              "          '<a target=\"_blank\" href=https://colab.research.google.com/notebooks/data_table.ipynb>data table notebook</a>'\n",
              "          + ' to learn more about interactive tables.';\n",
              "        element.innerHTML = '';\n",
              "        dataTable['output_type'] = 'display_data';\n",
              "        await google.colab.output.renderOutput(dataTable, element);\n",
              "        const docLink = document.createElement('div');\n",
              "        docLink.innerHTML = docLinkHtml;\n",
              "        element.appendChild(docLink);\n",
              "      }\n",
              "    </script>\n",
              "  </div>\n",
              "\n",
              "\n",
              "<div id=\"df-7512134a-5f59-4bdc-a814-33a626a88caa\">\n",
              "  <button class=\"colab-df-quickchart\" onclick=\"quickchart('df-7512134a-5f59-4bdc-a814-33a626a88caa')\"\n",
              "            title=\"Suggest charts\"\n",
              "            style=\"display:none;\">\n",
              "\n",
              "<svg xmlns=\"http://www.w3.org/2000/svg\" height=\"24px\"viewBox=\"0 0 24 24\"\n",
              "     width=\"24px\">\n",
              "    <g>\n",
              "        <path d=\"M19 3H5c-1.1 0-2 .9-2 2v14c0 1.1.9 2 2 2h14c1.1 0 2-.9 2-2V5c0-1.1-.9-2-2-2zM9 17H7v-7h2v7zm4 0h-2V7h2v10zm4 0h-2v-4h2v4z\"/>\n",
              "    </g>\n",
              "</svg>\n",
              "  </button>\n",
              "\n",
              "<style>\n",
              "  .colab-df-quickchart {\n",
              "      --bg-color: #E8F0FE;\n",
              "      --fill-color: #1967D2;\n",
              "      --hover-bg-color: #E2EBFA;\n",
              "      --hover-fill-color: #174EA6;\n",
              "      --disabled-fill-color: #AAA;\n",
              "      --disabled-bg-color: #DDD;\n",
              "  }\n",
              "\n",
              "  [theme=dark] .colab-df-quickchart {\n",
              "      --bg-color: #3B4455;\n",
              "      --fill-color: #D2E3FC;\n",
              "      --hover-bg-color: #434B5C;\n",
              "      --hover-fill-color: #FFFFFF;\n",
              "      --disabled-bg-color: #3B4455;\n",
              "      --disabled-fill-color: #666;\n",
              "  }\n",
              "\n",
              "  .colab-df-quickchart {\n",
              "    background-color: var(--bg-color);\n",
              "    border: none;\n",
              "    border-radius: 50%;\n",
              "    cursor: pointer;\n",
              "    display: none;\n",
              "    fill: var(--fill-color);\n",
              "    height: 32px;\n",
              "    padding: 0;\n",
              "    width: 32px;\n",
              "  }\n",
              "\n",
              "  .colab-df-quickchart:hover {\n",
              "    background-color: var(--hover-bg-color);\n",
              "    box-shadow: 0 1px 2px rgba(60, 64, 67, 0.3), 0 1px 3px 1px rgba(60, 64, 67, 0.15);\n",
              "    fill: var(--button-hover-fill-color);\n",
              "  }\n",
              "\n",
              "  .colab-df-quickchart-complete:disabled,\n",
              "  .colab-df-quickchart-complete:disabled:hover {\n",
              "    background-color: var(--disabled-bg-color);\n",
              "    fill: var(--disabled-fill-color);\n",
              "    box-shadow: none;\n",
              "  }\n",
              "\n",
              "  .colab-df-spinner {\n",
              "    border: 2px solid var(--fill-color);\n",
              "    border-color: transparent;\n",
              "    border-bottom-color: var(--fill-color);\n",
              "    animation:\n",
              "      spin 1s steps(1) infinite;\n",
              "  }\n",
              "\n",
              "  @keyframes spin {\n",
              "    0% {\n",
              "      border-color: transparent;\n",
              "      border-bottom-color: var(--fill-color);\n",
              "      border-left-color: var(--fill-color);\n",
              "    }\n",
              "    20% {\n",
              "      border-color: transparent;\n",
              "      border-left-color: var(--fill-color);\n",
              "      border-top-color: var(--fill-color);\n",
              "    }\n",
              "    30% {\n",
              "      border-color: transparent;\n",
              "      border-left-color: var(--fill-color);\n",
              "      border-top-color: var(--fill-color);\n",
              "      border-right-color: var(--fill-color);\n",
              "    }\n",
              "    40% {\n",
              "      border-color: transparent;\n",
              "      border-right-color: var(--fill-color);\n",
              "      border-top-color: var(--fill-color);\n",
              "    }\n",
              "    60% {\n",
              "      border-color: transparent;\n",
              "      border-right-color: var(--fill-color);\n",
              "    }\n",
              "    80% {\n",
              "      border-color: transparent;\n",
              "      border-right-color: var(--fill-color);\n",
              "      border-bottom-color: var(--fill-color);\n",
              "    }\n",
              "    90% {\n",
              "      border-color: transparent;\n",
              "      border-bottom-color: var(--fill-color);\n",
              "    }\n",
              "  }\n",
              "</style>\n",
              "\n",
              "  <script>\n",
              "    async function quickchart(key) {\n",
              "      const quickchartButtonEl =\n",
              "        document.querySelector('#' + key + ' button');\n",
              "      quickchartButtonEl.disabled = true;  // To prevent multiple clicks.\n",
              "      quickchartButtonEl.classList.add('colab-df-spinner');\n",
              "      try {\n",
              "        const charts = await google.colab.kernel.invokeFunction(\n",
              "            'suggestCharts', [key], {});\n",
              "      } catch (error) {\n",
              "        console.error('Error during call to suggestCharts:', error);\n",
              "      }\n",
              "      quickchartButtonEl.classList.remove('colab-df-spinner');\n",
              "      quickchartButtonEl.classList.add('colab-df-quickchart-complete');\n",
              "    }\n",
              "    (() => {\n",
              "      let quickchartButtonEl =\n",
              "        document.querySelector('#df-7512134a-5f59-4bdc-a814-33a626a88caa button');\n",
              "      quickchartButtonEl.style.display =\n",
              "        google.colab.kernel.accessAllowed ? 'block' : 'none';\n",
              "    })();\n",
              "  </script>\n",
              "</div>\n",
              "\n",
              "  <div id=\"id_f64c990e-88f3-4051-b55b-8f1f4b14ffd2\">\n",
              "    <style>\n",
              "      .colab-df-generate {\n",
              "        background-color: #E8F0FE;\n",
              "        border: none;\n",
              "        border-radius: 50%;\n",
              "        cursor: pointer;\n",
              "        display: none;\n",
              "        fill: #1967D2;\n",
              "        height: 32px;\n",
              "        padding: 0 0 0 0;\n",
              "        width: 32px;\n",
              "      }\n",
              "\n",
              "      .colab-df-generate:hover {\n",
              "        background-color: #E2EBFA;\n",
              "        box-shadow: 0px 1px 2px rgba(60, 64, 67, 0.3), 0px 1px 3px 1px rgba(60, 64, 67, 0.15);\n",
              "        fill: #174EA6;\n",
              "      }\n",
              "\n",
              "      [theme=dark] .colab-df-generate {\n",
              "        background-color: #3B4455;\n",
              "        fill: #D2E3FC;\n",
              "      }\n",
              "\n",
              "      [theme=dark] .colab-df-generate:hover {\n",
              "        background-color: #434B5C;\n",
              "        box-shadow: 0px 1px 3px 1px rgba(0, 0, 0, 0.15);\n",
              "        filter: drop-shadow(0px 1px 2px rgba(0, 0, 0, 0.3));\n",
              "        fill: #FFFFFF;\n",
              "      }\n",
              "    </style>\n",
              "    <button class=\"colab-df-generate\" onclick=\"generateWithVariable('survey_meta_manager')\"\n",
              "            title=\"Generate code using this dataframe.\"\n",
              "            style=\"display:none;\">\n",
              "\n",
              "  <svg xmlns=\"http://www.w3.org/2000/svg\" height=\"24px\"viewBox=\"0 0 24 24\"\n",
              "       width=\"24px\">\n",
              "    <path d=\"M7,19H8.4L18.45,9,17,7.55,7,17.6ZM5,21V16.75L18.45,3.32a2,2,0,0,1,2.83,0l1.4,1.43a1.91,1.91,0,0,1,.58,1.4,1.91,1.91,0,0,1-.58,1.4L9.25,21ZM18.45,9,17,7.55Zm-12,3A5.31,5.31,0,0,0,4.9,8.1,5.31,5.31,0,0,0,1,6.5,5.31,5.31,0,0,0,4.9,4.9,5.31,5.31,0,0,0,6.5,1,5.31,5.31,0,0,0,8.1,4.9,5.31,5.31,0,0,0,12,6.5,5.46,5.46,0,0,0,6.5,12Z\"/>\n",
              "  </svg>\n",
              "    </button>\n",
              "    <script>\n",
              "      (() => {\n",
              "      const buttonEl =\n",
              "        document.querySelector('#id_f64c990e-88f3-4051-b55b-8f1f4b14ffd2 button.colab-df-generate');\n",
              "      buttonEl.style.display =\n",
              "        google.colab.kernel.accessAllowed ? 'block' : 'none';\n",
              "\n",
              "      buttonEl.onclick = () => {\n",
              "        google.colab.notebook.generateWithVariable('survey_meta_manager');\n",
              "      }\n",
              "      })();\n",
              "    </script>\n",
              "  </div>\n",
              "\n",
              "    </div>\n",
              "  </div>\n"
            ],
            "application/vnd.google.colaboratory.intrinsic+json": {
              "type": "dataframe",
              "variable_name": "survey_meta_manager",
              "summary": "{\n  \"name\": \"survey_meta_manager\",\n  \"rows\": 31,\n  \"fields\": [\n    {\n      \"column\": \"PID\",\n      \"properties\": {\n        \"dtype\": \"string\",\n        \"num_unique_values\": 31,\n        \"samples\": [\n          \"ST036\",\n          \"ST030\",\n          \"ST022\"\n        ],\n        \"semantic_type\": \"\",\n        \"description\": \"\"\n      }\n    },\n    {\n      \"column\": \"Email\",\n      \"properties\": {\n        \"dtype\": \"string\",\n        \"num_unique_values\": 31,\n        \"samples\": [\n          \"dianawilson0911@gmail.com\",\n          \"simmsmba@gmail.com\",\n          \"davidwaters54367@gmail.com\"\n        ],\n        \"semantic_type\": \"\",\n        \"description\": \"\"\n      }\n    },\n    {\n      \"column\": \"nick_name\",\n      \"properties\": {\n        \"dtype\": \"string\",\n        \"num_unique_values\": 29,\n        \"samples\": [\n          \"John\",\n          \"alex\",\n          \"David\"\n        ],\n        \"semantic_type\": \"\",\n        \"description\": \"\"\n      }\n    },\n    {\n      \"column\": \"start_date\",\n      \"properties\": {\n        \"dtype\": \"date\",\n        \"min\": \"2024-12-04 00:00:00\",\n        \"max\": \"2024-12-06 00:00:00\",\n        \"num_unique_values\": 4,\n        \"samples\": [\n          \"2024-12-05\",\n          \"\",\n          \"2024-12-04\"\n        ],\n        \"semantic_type\": \"\",\n        \"description\": \"\"\n      }\n    },\n    {\n      \"column\": \"app_day_count\",\n      \"properties\": {\n        \"dtype\": \"date\",\n        \"min\": \"1970-01-01 00:00:00.000000001\",\n        \"max\": \"1970-01-01 00:00:00.000000003\",\n        \"num_unique_values\": 4,\n        \"samples\": [\n          2.0,\n          \"\",\n          3.0\n        ],\n        \"semantic_type\": \"\",\n        \"description\": \"\"\n      }\n    },\n    {\n      \"column\": \"last_update_local\",\n      \"properties\": {\n        \"dtype\": \"object\",\n        \"num_unique_values\": 22,\n        \"samples\": [\n          \"2024-12-05 21:23:56.393000-06:00\",\n          \"2024-12-06 12:53:43.947000-05:00\",\n          \"2024-12-05 19:06:05.107000-08:00\"\n        ],\n        \"semantic_type\": \"\",\n        \"description\": \"\"\n      }\n    },\n    {\n      \"column\": \"lapse_last_update\",\n      \"properties\": {\n        \"dtype\": \"string\",\n        \"num_unique_values\": 20,\n        \"samples\": [\n          \"17:16\",\n          \"04:10\",\n          \"01:44\"\n        ],\n        \"semantic_type\": \"\",\n        \"description\": \"\"\n      }\n    }\n  ]\n}"
            }
          },
          "metadata": {},
          "execution_count": 120
        }
      ]
    },
    {
      "cell_type": "code",
      "source": [
        "survey_meta_manager.to_csv(google_drive_data_path + '/survey_meta_manager.csv', index=False)"
      ],
      "metadata": {
        "id": "EbJfYNPnsjBl"
      },
      "execution_count": 121,
      "outputs": []
    },
    {
      "cell_type": "markdown",
      "source": [
        "Creating a status"
      ],
      "metadata": {
        "id": "xtMfDvWSKA9G"
      }
    },
    {
      "cell_type": "code",
      "source": [
        "import pandas as pd\n",
        "from datetime import datetime, time\n",
        "\n",
        "# Read the CSV\n",
        "df = pd.read_csv(google_drive_data_path + '/survey_meta_manager.csv')"
      ],
      "metadata": {
        "id": "qpwiBdeZKazF"
      },
      "execution_count": null,
      "outputs": []
    },
    {
      "cell_type": "code",
      "source": [
        "# Initialize status column with \"not yet started\"\n",
        "df['status'] = \"not yet started\"\n",
        "\n",
        "# Convert lapse_last_update to datetime.time objects where possible\n",
        "def convert_time(x):\n",
        "    try:\n",
        "        if pd.notna(x):\n",
        "            hours, minutes = map(int, x.split(':'))\n",
        "            return time(hours, minutes)\n",
        "    except:\n",
        "        return pd.NaT\n",
        "\n",
        "df['lapse_time'] = df['lapse_last_update'].apply(convert_time)\n",
        "\n",
        "# Set status based on conditions\n",
        "# 1. If lapse_last_update < 12:00, status = \"started\"\n",
        "cutoff_time = time(12, 0)\n",
        "mask_started = df['lapse_time'].apply(lambda x: pd.notna(x) and isinstance(x, time) and x < cutoff_time)\n",
        "df.loc[mask_started, 'status'] = \"started\"\n",
        "\n",
        "# 2. If start_date is not empty but lapse_last_update is empty or ≥ 12:00\n",
        "mask_tech_issue = (pd.notna(df['start_date'])) & (~mask_started)\n",
        "df.loc[mask_tech_issue, 'status'] = \"tech issue\"\n",
        "\n",
        "# Drop the temporary lapse_time column\n",
        "df = df.drop('lapse_time', axis=1)"
      ],
      "metadata": {
        "id": "8pqNF831Z8Eu"
      },
      "execution_count": null,
      "outputs": []
    },
    {
      "cell_type": "code",
      "source": [
        "df.to_csv(google_drive_data_path + '/survey_meta_manager.csv', index=False)"
      ],
      "metadata": {
        "id": "zTWF3urfKnmm"
      },
      "execution_count": null,
      "outputs": []
    },
    {
      "cell_type": "code",
      "source": [
        "# Read both CSVs\n",
        "signup_df = pd.read_csv(google_drive_data_path + '/signup_survey_data_processed_combined.csv')\n",
        "survey_meta_df = df[['Email', 'status']]  # Using the df we created earlier\n",
        "\n",
        "# Merge the dataframes\n",
        "signup_df = signup_df.merge(survey_meta_df, on='Email', how='left')\n",
        "\n",
        "# Replace values in Note column with status values where status is not null\n",
        "mask = pd.notna(signup_df['status'])\n",
        "signup_df.loc[mask, 'Note'] = signup_df.loc[mask, 'status']\n",
        "\n",
        "# Drop the status column since we don't need it anymore\n",
        "signup_df = signup_df.drop('status', axis=1)\n"
      ],
      "metadata": {
        "id": "zCIBANg7LbRW"
      },
      "execution_count": null,
      "outputs": []
    },
    {
      "cell_type": "code",
      "source": [
        "signup_df.to_csv(google_drive_data_path + '/signup_survey_data_with_note.csv', index=False)"
      ],
      "metadata": {
        "id": "xTi53jdWMu1x"
      },
      "execution_count": null,
      "outputs": []
    },
    {
      "cell_type": "code",
      "source": [
        "# Read the Participants from Janel CSV\n",
        "janel_df = pd.read_csv(google_drive_data_path + '/Participants from Janel.csv')\n",
        "\n",
        "# Merge with signup_df\n",
        "janel_df = janel_df.merge(signup_df[['Email', 'Note']],\n",
        "                         on='Email',\n",
        "                         how='left',\n",
        "                         suffixes=('_old', '_new'))\n",
        "\n",
        "# If Note_new exists, use it to replace Note_old\n",
        "mask = pd.notna(janel_df['Note_new'])\n",
        "janel_df.loc[mask, 'Note_old'] = janel_df.loc[mask, 'Note_new']\n",
        "\n",
        "# Clean up column names\n",
        "janel_df = janel_df.rename(columns={'Note_old': 'Note'})\n",
        "janel_df = janel_df.drop('Note_new', axis=1)\n",
        "\n",
        "print(janel_df)"
      ],
      "metadata": {
        "colab": {
          "base_uri": "https://localhost:8080/"
        },
        "id": "4Z2a1l-2NPzY",
        "outputId": "8f134dd2-073b-4c79-9bb4-6c2cce1a0019"
      },
      "execution_count": null,
      "outputs": [
        {
          "output_type": "stream",
          "name": "stdout",
          "text": [
            "                     Name                          Email signed up?  \\\n",
            "0   America haileselassie   Ahaileselassie7459@gmail.com        yes   \n",
            "1           Barbara Stras          Barbstraskc@gmail.com    not yet   \n",
            "2           Brian Troesch          Brian_60629@yahoo.com        yes   \n",
            "3         Brittany Thomas            btmarie33@gmail.com        yes   \n",
            "4           David Seltzer                djsboca@aol.ocm        yes   \n",
            "5                 Hong Vu              hongvuh@gmail.com        yes   \n",
            "6               Art Smosh            ibbincome@gmail.com        yes   \n",
            "7             Juan Moreno         jimoreno2055@gmail.com        yes   \n",
            "8      Katherine Mitchell  katherinemitchell98@yahoo.com    not yet   \n",
            "9        Kelley Pasmanick      kelleypasmanick@gmail.com        yes   \n",
            "10       Kimberly Tippett           Ktippett05@nc.rr.com        yes   \n",
            "11            Lauren Rich        laurenjrich@outlook.com        yes   \n",
            "12             carl mapps            Mappscarl@gmail.com        yes   \n",
            "13            Mark Winger        mark_winger@hotmail.com        yes   \n",
            "14      Nicole Krivitskiy          nkaganovsky@gmail.com   yes, but   \n",
            "15             Noah Reeve      Noahsschool2018@gmail.com        yes   \n",
            "16        Amanda Fishbeck       Notquiterite73@gmail.com        yes   \n",
            "17             Roald Mark             Roald820@gmail.com        yes   \n",
            "18       Sadie Santa Cruz       Sadiesantacruz@gmail.com        yes   \n",
            "19      Daniel Santa Cruz        santanana2000@yahoo.com        yes   \n",
            "20            TRACY SIMMS             SIMMSMBA@GMAIL.COM   yes, but   \n",
            "21            Kim Gilbert              ssksg73@gmail.com        yes   \n",
            "22         Kelsey Storrer              yeslek000@aol.com        yes   \n",
            "23             Yuan Kuang             yk010181@yahoo.com        yes   \n",
            "\n",
            "                                                 Note  \n",
            "0                                          tech issue  \n",
            "1                                          travelling  \n",
            "2                                             started  \n",
            "3                               screen time no enough  \n",
            "4                                                 NaN  \n",
            "5                                             started  \n",
            "6                                     not yet started  \n",
            "7                                             started  \n",
            "8                                                 NaN  \n",
            "9                               screen time no enough  \n",
            "10                                            started  \n",
            "11                                                NaN  \n",
            "12                                            started  \n",
            "13                              screen time no enough  \n",
            "14  Four responses from exactly same location with...  \n",
            "15                                            started  \n",
            "16                                            started  \n",
            "17                                         tech issue  \n",
            "18                                            started  \n",
            "19                                            started  \n",
            "20  Reported as suspicious from Qualtrics. Signed-...  \n",
            "21                                            started  \n",
            "22                              screen time no enough  \n",
            "23                                            started  \n"
          ]
        }
      ]
    },
    {
      "cell_type": "code",
      "source": [
        "janel_df.to_csv(google_drive_data_path + '/Participants from Janel noted.csv', index=False)"
      ],
      "metadata": {
        "id": "IMzL1bs1NlAv"
      },
      "execution_count": null,
      "outputs": []
    },
    {
      "cell_type": "markdown",
      "source": [
        "## Generate reminder mail list"
      ],
      "metadata": {
        "id": "yo3YdmPp0ZCb"
      }
    },
    {
      "cell_type": "markdown",
      "source": [
        "Generate a list of emails for certain filter. Copy the output into bcc in gmail"
      ],
      "metadata": {
        "id": "5IFbMEHF_QTS"
      }
    },
    {
      "cell_type": "markdown",
      "source": [
        "Locate the corresponding email in the document [Emails](https://docs.google.com/document/d/1e5TZJ6ILpku8rVdO_ADUwI-lM8SCIh7xG95jrG73INY/edit?usp=sharing)"
      ],
      "metadata": {
        "id": "gLfObLMXLC6q"
      }
    },
    {
      "cell_type": "code",
      "source": [
        "def get_emails_by_day_count(day_count):\n",
        "    emails = survey_meta_manager[survey_meta_manager['app_day_count'] == day_count]['Email'].tolist()\n",
        "    if emails:\n",
        "        return ','.join(emails)\n",
        "    else:\n",
        "        return None"
      ],
      "metadata": {
        "id": "5Gnj-Ly8WvlC"
      },
      "execution_count": null,
      "outputs": []
    },
    {
      "cell_type": "markdown",
      "source": [
        "### Week 1 completion"
      ],
      "metadata": {
        "id": "ojA0MPE20e-z"
      }
    },
    {
      "cell_type": "code",
      "source": [
        "# filter those day_count is 7\n",
        "emails = get_emails_by_day_count(7)\n",
        "print(emails)"
      ],
      "metadata": {
        "id": "Y4P-gZgi0pQk",
        "colab": {
          "base_uri": "https://localhost:8080/"
        },
        "outputId": "041b7e85-d06c-41d9-8cd0-f653bd54494f"
      },
      "execution_count": null,
      "outputs": [
        {
          "output_type": "stream",
          "name": "stdout",
          "text": [
            "None\n"
          ]
        }
      ]
    },
    {
      "cell_type": "markdown",
      "source": [
        "### Week 2 completion"
      ],
      "metadata": {
        "id": "QWnH2Zud0exL"
      }
    },
    {
      "cell_type": "code",
      "source": [
        "# filter those day_count is 14\n",
        "emails = get_emails_by_day_count(14)\n",
        "print(emails)"
      ],
      "metadata": {
        "colab": {
          "base_uri": "https://localhost:8080/"
        },
        "id": "CIXdomrCXEFg",
        "outputId": "bdb9d8da-84f5-48ee-a7d6-47b0e1e04d87"
      },
      "execution_count": null,
      "outputs": [
        {
          "output_type": "stream",
          "name": "stdout",
          "text": [
            "None\n"
          ]
        }
      ]
    },
    {
      "cell_type": "markdown",
      "source": [
        "### Week 3 completion"
      ],
      "metadata": {
        "id": "nrXxVuNI0ep5"
      }
    },
    {
      "cell_type": "code",
      "source": [
        "# filter those day_count is 21\n",
        "emails = get_emails_by_day_count(21)\n",
        "print(emails)"
      ],
      "metadata": {
        "colab": {
          "base_uri": "https://localhost:8080/"
        },
        "id": "Q9Zx5vq2XEaB",
        "outputId": "fdc61519-b7de-49be-e01b-80dc3d52df5b"
      },
      "execution_count": null,
      "outputs": [
        {
          "output_type": "stream",
          "name": "stdout",
          "text": [
            "None\n"
          ]
        }
      ]
    },
    {
      "cell_type": "markdown",
      "source": [
        "### Daily reminder"
      ],
      "metadata": {
        "id": "ZSKaRnMO0eUi"
      }
    },
    {
      "cell_type": "code",
      "source": [
        "# if there is an available survey awaiting\n",
        "# Create four columns with initial 'unavailable' status\n",
        "survey_meta_manager['survey1_status'] = 'unavailable'\n",
        "survey_meta_manager['survey2_status'] = 'unavailable'\n",
        "survey_meta_manager['survey3_status'] = 'unavailable'\n",
        "survey_meta_manager['survey4_status'] = 'unavailable'\n",
        "\n",
        "# Update status to 'complete' if there's a date in the survey columns\n",
        "for i in range(1, 5):\n",
        "    survey_meta_manager[f'survey{i}_status'] = np.where(survey_meta_manager[f'survey{i}'].notna(), 'complete', survey_meta_manager[f'survey{i}_status'])\n",
        "\n",
        "# Update status to 'available' if survey is NA and day_count exceeds the threshold\n",
        "thresholds = [6, 13, 20]\n",
        "for i, col in enumerate(['survey2', 'survey3', 'survey4'], start=2):\n",
        "    survey_meta_manager[f'{col}_status'] = np.where(\n",
        "        (survey_meta_manager[col].isna()) & (survey_meta_manager['app_day_count'] > thresholds[i-2]),\n",
        "        'available',\n",
        "        survey_meta_manager[f'{col}_status']\n",
        "    )\n",
        "\n",
        "# Save the updated DataFrame\n",
        "print(\"The shape of the dataframe is: \", survey_meta_manager.shape)\n",
        "survey_meta_manager.to_csv(google_drive_data_path + '/survey_meta_manager.csv', index=False)"
      ],
      "metadata": {
        "id": "zXvFdjmwdPli",
        "colab": {
          "base_uri": "https://localhost:8080/"
        },
        "outputId": "83991d69-cc94-4e80-e82f-0fa0567ea984"
      },
      "execution_count": null,
      "outputs": [
        {
          "output_type": "stream",
          "name": "stdout",
          "text": [
            "The shape of the dataframe is:  (8, 13)\n"
          ]
        }
      ]
    },
    {
      "cell_type": "code",
      "source": [
        "# Get emails for participants with at least one 'available' survey\n",
        "target_participants = survey_meta_manager[(survey_meta_manager['survey2_status'] == 'available') |\n",
        "                                          (survey_meta_manager['survey3_status'] == 'available') |\n",
        "                                          (survey_meta_manager['survey4_status'] == 'available')]\n",
        "email_list = target_participants['email'].tolist()\n",
        "print(','.join(email_list) or 'None')"
      ],
      "metadata": {
        "colab": {
          "base_uri": "https://localhost:8080/"
        },
        "id": "4-uTbyU8dZT6",
        "outputId": "79126749-9281-4051-be07-f88206b816f6"
      },
      "execution_count": null,
      "outputs": [
        {
          "output_type": "stream",
          "name": "stdout",
          "text": [
            "pi005@gmail.com,pi011@gmail.com,pi012@gmail.com,te010@gmail.com\n"
          ]
        }
      ]
    },
    {
      "cell_type": "markdown",
      "source": [
        "### Drop out notification"
      ],
      "metadata": {
        "id": "jRTSFjyIM5F6"
      }
    },
    {
      "cell_type": "code",
      "source": [
        "# If a survey is unanswered for seven days, send out a drop-out notification"
      ],
      "metadata": {
        "id": "a86pWV1cNFbZ"
      },
      "execution_count": null,
      "outputs": []
    }
  ]
}